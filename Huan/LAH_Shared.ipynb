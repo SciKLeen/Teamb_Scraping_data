{
 "cells": [
  {
   "cell_type": "code",
   "execution_count": 3,
   "metadata": {},
   "outputs": [
    {
     "ename": "IndentationError",
     "evalue": "unexpected indent (<ipython-input-3-88881ac84db3>, line 25)",
     "output_type": "error",
     "traceback": [
      "\u001b[1;36m  File \u001b[1;32m\"<ipython-input-3-88881ac84db3>\"\u001b[1;36m, line \u001b[1;32m25\u001b[0m\n\u001b[1;33m    close=driver.find_elements_by_xpath(\"//div[@class='modal fade in']\")\u001b[0m\n\u001b[1;37m    ^\u001b[0m\n\u001b[1;31mIndentationError\u001b[0m\u001b[1;31m:\u001b[0m unexpected indent\n"
     ]
    }
   ],
   "source": [
    "#Khi cào một số trang web mà có pop-up khiến việc click vào element\n",
    "#bị lỗi đại loại như: \"Không thể click vào abc bây giờ vì xyz sẽ nhận được cú click này\"\n",
    "#khi đó tức là 1 cái màn phủ khác trùm lên trang, và màn phủ này có chứa pop-up, \n",
    "#khiến script không thể click lên, thì mình sẽ phải tìm class của màng phủ này, \n",
    "#sau đó, tắt cái pop-up đi, rồi mới thực hiện click. Mình làm như sau\n",
    "#    1, xác định màn phủ có tên hay đặc điểm gì khiến nó là duy nhất trong trang? để lọc nó ra.\n",
    "#    2, trong đoạn mã, mình kiểm tra xem cái màn phủ có xuất hiện hay không?\n",
    "#    3, nếu xuất hiện, mình phải sleep 1 vài giây chờ pop-up hiện lên.\n",
    "#    4, click vào nút đóng pop-up.\n",
    "#    5, chờ thêm 1 vài giây để pop-up và màn phủ biến mất 2 cái \"1 vài giây\" mà mình đề cập tới \n",
    "#    quyết định trực tiếp tới sự đi tiếp hay là dừng lại của script, vì nhiều khi pop-up chưa hiện lên\n",
    "#    mà các bạn thực hiện click vào nút đóng pop-up = error.\n",
    "#    6, tiếp tục thực hiện công việc, có những trang web mà khi có pop-up mà không bị lỗi thì không \n",
    "#    cần thực hiện việc này, để kiểm tra thì khi pop-up của trang web đó hiện lên, mà bạn click vào\n",
    "#    phần tử phía dưới (ngoài pop-up) mà cú click vẫn đưuọc thực hiện, thì có nghĩa là bạn k cần quan\n",
    "#    tâm tới pop-up kia, cứ việc thực hiện mọi thứ bình thường.\n",
    "#code mẫu như sau:\n",
    "# Wait to load page-----------------------------------------------------------------------------------------------------------------------------------------------------------\n",
    "    # ở đây màn phủ có dạng: div class= modal fade in (cái này là duy nhất, khi pop-up hiện ra bạn\n",
    "    # click nút tìm phần tử trong Chrome Development rê chuột ra ngoài khoảng pop-up, phần màn phủ này\n",
    "    # sẽ đổi màu xanh xám, bạn click vào sẽ xác định được màn phủ, bạn ấn Ctrl+F để tìm tên màn phủ kia,\n",
    "    # nếu nó chỉ ra 1, thì có nghĩa là bạn có thể lấy tên này để thực hiện kiểm tra, nếu số kết quả tìm\n",
    "    #kiếm lớn hơn 1, thì bạn phải xác định thêm các thành phần khác, sao cho kq tìm kiếm là duy nhất,\n",
    "    #cái này khá là khó nói, vì phụ thuộc vào từng trang cụ thể, và bạn phải thực hành thì sẽ dễ quen hơn)    \n",
    "    close=driver.find_elements_by_xpath(\"//div[@class='modal fade in']\")\n",
    "        # nếu kq của hàm tìm kiếm lớn hơn 0, tức là tồn tại màn phủ, thực hiện các bước mình đã nêu\n",
    "        if(len(close))>0:\n",
    "#            print(\"!!![WARNING]:---have a fade in popup, wait a few second to close it before get the next page\")\n",
    "            time.sleep(3)\n",
    "            driver.find_element_by_xpath(\"//div[@class='modal fade in']//div//div//div//button\").click()\n",
    "            time.sleep(1)\n",
    "#-------------------------------------------------------------------------------------------------------------  "
   ]
  },
  {
   "cell_type": "code",
   "execution_count": 1,
   "metadata": {},
   "outputs": [],
   "source": [
    "#IndentationError: unindent does not match any outer indentation level\n",
    "#Lỗi này là dòng được báo bị nhô ra hoặc thụt vào so với khối lệnh, khiến \n",
    "#trình biên dịch k xác định được level của dòng lệnh"
   ]
  },
  {
   "cell_type": "code",
   "execution_count": null,
   "metadata": {},
   "outputs": [],
   "source": [
    "'''\n",
    "quá trình thực hiện lấy data từ 1 web sẽ là \n",
    "1 vào web xem sơ 1 lượt để tìm keyword input\n",
    "2 search 1 từ khóa vô nghĩa thật dài, để xác định \"trang web không tìm thấy kết quả\"\n",
    "3 kiểm tra có pop-up không\n",
    "4 thực hiện code với kq ở 3 bước trên\n",
    "'''"
   ]
  },
  {
   "cell_type": "code",
   "execution_count": null,
   "metadata": {},
   "outputs": [],
   "source": [
    "# có 1 số dòng lệnh lỗi mà phải có lỗi mình mới viết được nên chắc mình sẽ bổ sung sau."
   ]
  },
  {
   "cell_type": "code",
   "execution_count": null,
   "metadata": {},
   "outputs": [],
   "source": []
  }
 ],
 "metadata": {
  "kernelspec": {
   "display_name": "Python 3",
   "language": "python",
   "name": "python3"
  },
  "language_info": {
   "codemirror_mode": {
    "name": "ipython",
    "version": 3
   },
   "file_extension": ".py",
   "mimetype": "text/x-python",
   "name": "python",
   "nbconvert_exporter": "python",
   "pygments_lexer": "ipython3",
   "version": "3.7.1"
  }
 },
 "nbformat": 4,
 "nbformat_minor": 2
}
