{
 "cells": [
  {
   "cell_type": "code",
   "execution_count": 12,
   "metadata": {},
   "outputs": [
    {
     "data": {
      "text/html": [
       "<script type=\"text/javascript\">window.PlotlyConfig = {MathJaxConfig: 'local'};</script><script type=\"text/javascript\">if (window.MathJax) {MathJax.Hub.Config({SVG: {font: \"STIX-Web\"}});}</script><script>requirejs.config({paths: { 'plotly': ['https://cdn.plot.ly/plotly-latest.min']},});if(!window._Plotly) {require(['plotly'],function(plotly) {window._Plotly=plotly;});}</script>"
      ],
      "text/vnd.plotly.v1+html": [
       "<script type=\"text/javascript\">window.PlotlyConfig = {MathJaxConfig: 'local'};</script><script type=\"text/javascript\">if (window.MathJax) {MathJax.Hub.Config({SVG: {font: \"STIX-Web\"}});}</script><script>requirejs.config({paths: { 'plotly': ['https://cdn.plot.ly/plotly-latest.min']},});if(!window._Plotly) {require(['plotly'],function(plotly) {window._Plotly=plotly;});}</script>"
      ]
     },
     "metadata": {},
     "output_type": "display_data"
    },
    {
     "data": {
      "text/html": [
       "<script type=\"text/javascript\">window.PlotlyConfig = {MathJaxConfig: 'local'};</script><script type=\"text/javascript\">if (window.MathJax) {MathJax.Hub.Config({SVG: {font: \"STIX-Web\"}});}</script><script>requirejs.config({paths: { 'plotly': ['https://cdn.plot.ly/plotly-latest.min']},});if(!window._Plotly) {require(['plotly'],function(plotly) {window._Plotly=plotly;});}</script>"
      ],
      "text/vnd.plotly.v1+html": [
       "<script type=\"text/javascript\">window.PlotlyConfig = {MathJaxConfig: 'local'};</script><script type=\"text/javascript\">if (window.MathJax) {MathJax.Hub.Config({SVG: {font: \"STIX-Web\"}});}</script><script>requirejs.config({paths: { 'plotly': ['https://cdn.plot.ly/plotly-latest.min']},});if(!window._Plotly) {require(['plotly'],function(plotly) {window._Plotly=plotly;});}</script>"
      ]
     },
     "metadata": {},
     "output_type": "display_data"
    },
    {
     "name": "stdout",
     "output_type": "stream",
     "text": [
      "0.926829268292683 2 chuoi nay co kha nang giong nhau, de nghi so sanh bang tay\n"
     ]
    }
   ],
   "source": [
    "import pandas as pd\n",
    "import array as ar\n",
    "from os import path\n",
    "from PIL import Image\n",
    "from wordcloud import WordCloud, STOPWORDS, ImageColorGenerator\n",
    "import matplotlib.pyplot as plt\n",
    "import xlrd\n",
    "import plotly.plotly as py\n",
    "import plotly.graph_objs as go\n",
    "import array as ar\n",
    "from plotly.offline import iplot, init_notebook_mode\n",
    "\n",
    "import cufflinks\n",
    "cufflinks.go_offline(connected=True)\n",
    "init_notebook_mode(connected=True)\n",
    "import pandas as pd\n",
    "\n",
    "from pandas import ExcelWriter\n",
    "from pandas import ExcelFile\n",
    "string1 = \"General Enquiries Degree in Business, Computer Science or any related to Business and IT field. At least 3 years experiencing participating in developing a Business Intelligence or MIS system for Consumer Finance or Banking insdustry. 35 years of Advance SQL skills working with relational databases to write complex queries and stored procedures. At least 1 year experience working in data extraction, aggregation, transformation and loading (ETL). Ability to manage multiple priorities and assess and adjust quickly to changing priorities. Strong analytical and problemsolving skills. Ability to preempt and resolve issues. Knowledge & Skills Able to work in a team. Good communication and negotiation skills. Personal efficiency (time management, prioritization, focus on task completion). Ability to work under stress. Excellent spoken and written English.\"\n",
    "string2 = \"General Enquiries Degree in Business, Computer Science or any related to Business and IT field. Have experience with Machine Learning and Artificial Intelligence algorithms and approaches. 35 years of Advance SQL skills working with relational databases to write complex queries and stored procedures. 13 years experiencing working in a Business Intelligence Developer role of banking or finance insdustry. At least 1 year experience working in data extraction, aggregation, transformation and loading (ETL). Ability to manage multiple priorities and assess and adjust quickly to changing priorities. Strong analytical and problemsolving skills. Ability to preempt and resolve issues. Knowledge & Skills Able to work in a team. Good communication and negotiation skills. Personal efficiency (time management, prioritization, focus on task completion). Ability to work under stress. Excellent spoken and written English.\" \n",
    "elem1 = [x for x in string1.split()]\n",
    "elem2 = [x for x in string2.split()]\n",
    "size=min(len(elem1), len(elem2))\n",
    "count=0\n",
    "for item in elem1:\n",
    "    if item in elem2:\n",
    "        count+=1\n",
    "if count/size>=0.8:\n",
    "    print(count/size,'2 chuoi nay co kha nang giong nhau, de nghi so sanh bang tay')\n",
    "else:\n",
    "    print('2 chuoi nay khac nhau qua nhieu')"
   ]
  },
  {
   "cell_type": "code",
   "execution_count": 18,
   "metadata": {},
   "outputs": [],
   "source": [
    "file_location = \"Preprocessed Web Data.xlsx\"\n",
    "\n",
    "workbook = xlrd.open_workbook(file_location)"
   ]
  },
  {
   "cell_type": "code",
   "execution_count": 19,
   "metadata": {},
   "outputs": [],
   "source": [
    "sheet = workbook.sheet_by_name('Sheet1')\n",
    "a5 = []\n",
    "a2 = []\n",
    "b = [] #b de check xem co b.i da dc check hay chua, 0 la chua, 1 la roi\n",
    "for cell in sheet.col(5):\n",
    "    d=cell.value\n",
    "    d.upper()\n",
    "    a5.append(d)\n",
    "    b.append(0)\n",
    "for cell in sheet.col(2):\n",
    "    d=cell.value\n",
    "    d.upper()\n",
    "    a2.append(d)\n"
   ]
  },
  {
   "cell_type": "code",
   "execution_count": 20,
   "metadata": {},
   "outputs": [],
   "source": [
    "for i in range (2, len(a5)):\n",
    "    #print('-----------',i)\n",
    "    e1 = [x for x in a5[i].split()]\n",
    "    ee1 = [x for x in a2[i].split()]\n",
    "    for j in range (i+1,len(a5)):\n",
    "        if not b[j]:\n",
    "            # b.i chua dc xet la giong voi 1 thang truoc do (hoan toan)\n",
    "            y=0\n",
    "            count=0\n",
    "            e2 = [x for x in a5[j].split()]\n",
    "            ee2 = [x for x in a2[j].split()]\n",
    "            size= max(1,min(len(e1), len(e2)))\n",
    "            if(ee1 != ee2 ): \n",
    "                continue\n",
    "            if len(e2)<len(e1):\n",
    "                y=1 # danh dau la co su hoan doi giua e1 va e2\n",
    "                e3=e1\n",
    "                e1=e2\n",
    "                e2=e3\n",
    "            for it in e1:\n",
    "                if it in e2:\n",
    "                    count+=1\n",
    "            if count/size>0.90:\n",
    "                print(i,' giong ',j,' toi ',count/size*100, '%')\n",
    "                b[j]=1\n",
    "            if y==1:\n",
    "                 # tra lai vi tri ban dau cua e1 va e2\n",
    "                e3=e1\n",
    "                e1=e2\n",
    "                e2=e3\n",
    "                "
   ]
  },
  {
   "cell_type": "code",
   "execution_count": 17,
   "metadata": {},
   "outputs": [],
   "source": [
    "df = pd.DataFrame({'yes?no':b})\n",
    "\n",
    "writer = ExcelWriter('temp_webdata_process.xlsx')\n",
    "df.to_excel(writer,'Sheet1',index=True)\n",
    "writer.save()"
   ]
  },
  {
   "cell_type": "code",
   "execution_count": null,
   "metadata": {},
   "outputs": [],
   "source": []
  }
 ],
 "metadata": {
  "kernelspec": {
   "display_name": "Python 3",
   "language": "python",
   "name": "python3"
  },
  "language_info": {
   "codemirror_mode": {
    "name": "ipython",
    "version": 3
   },
   "file_extension": ".py",
   "mimetype": "text/x-python",
   "name": "python",
   "nbconvert_exporter": "python",
   "pygments_lexer": "ipython3",
   "version": "3.7.1"
  }
 },
 "nbformat": 4,
 "nbformat_minor": 2
}
