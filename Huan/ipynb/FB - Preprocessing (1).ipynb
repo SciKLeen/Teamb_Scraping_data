{
 "cells": [
  {
   "cell_type": "code",
   "execution_count": 1,
   "metadata": {},
   "outputs": [
    {
     "data": {
      "text/html": [
       "<script type=\"text/javascript\">window.PlotlyConfig = {MathJaxConfig: 'local'};</script><script type=\"text/javascript\">if (window.MathJax) {MathJax.Hub.Config({SVG: {font: \"STIX-Web\"}});}</script><script>requirejs.config({paths: { 'plotly': ['https://cdn.plot.ly/plotly-latest.min']},});if(!window._Plotly) {require(['plotly'],function(plotly) {window._Plotly=plotly;});}</script>"
      ],
      "text/vnd.plotly.v1+html": [
       "<script type=\"text/javascript\">window.PlotlyConfig = {MathJaxConfig: 'local'};</script><script type=\"text/javascript\">if (window.MathJax) {MathJax.Hub.Config({SVG: {font: \"STIX-Web\"}});}</script><script>requirejs.config({paths: { 'plotly': ['https://cdn.plot.ly/plotly-latest.min']},});if(!window._Plotly) {require(['plotly'],function(plotly) {window._Plotly=plotly;});}</script>"
      ]
     },
     "metadata": {},
     "output_type": "display_data"
    },
    {
     "data": {
      "text/html": [
       "<script type=\"text/javascript\">window.PlotlyConfig = {MathJaxConfig: 'local'};</script><script type=\"text/javascript\">if (window.MathJax) {MathJax.Hub.Config({SVG: {font: \"STIX-Web\"}});}</script><script>requirejs.config({paths: { 'plotly': ['https://cdn.plot.ly/plotly-latest.min']},});if(!window._Plotly) {require(['plotly'],function(plotly) {window._Plotly=plotly;});}</script>"
      ],
      "text/vnd.plotly.v1+html": [
       "<script type=\"text/javascript\">window.PlotlyConfig = {MathJaxConfig: 'local'};</script><script type=\"text/javascript\">if (window.MathJax) {MathJax.Hub.Config({SVG: {font: \"STIX-Web\"}});}</script><script>requirejs.config({paths: { 'plotly': ['https://cdn.plot.ly/plotly-latest.min']},});if(!window._Plotly) {require(['plotly'],function(plotly) {window._Plotly=plotly;});}</script>"
      ]
     },
     "metadata": {},
     "output_type": "display_data"
    }
   ],
   "source": [
    "import pandas as pd\n",
    "import array as ar\n",
    "from os import path\n",
    "from PIL import Image\n",
    "from wordcloud import WordCloud, STOPWORDS, ImageColorGenerator\n",
    "import matplotlib.pyplot as plt\n",
    "import xlrd\n",
    "import plotly.plotly as py\n",
    "import plotly.graph_objs as go\n",
    "import array as ar\n",
    "from plotly.offline import iplot, init_notebook_mode\n",
    "\n",
    "import cufflinks\n",
    "cufflinks.go_offline(connected=True)\n",
    "init_notebook_mode(connected=True)\n",
    "import pandas as pd\n",
    "\n",
    "from pandas import ExcelWriter\n",
    "from pandas import ExcelFile"
   ]
  },
  {
   "cell_type": "markdown",
   "metadata": {},
   "source": [
    "# Machine Learning Cơ Bản\n",
    ".d\n",
    "d\n",
    "d\n",
    "d\n",
    ".\n",
    ".\n",
    "."
   ]
  },
  {
   "cell_type": "code",
   "execution_count": 3,
   "metadata": {},
   "outputs": [],
   "source": [
    "# ở đây sửa lại tên file theo từng nhóm đã tải\n",
    "file_location = \"BasicML.xlsx\"\n",
    "\n",
    "workbook = xlrd.open_workbook(file_location)\n",
    "#cái này tạm thời chưa cần dùng tới nên k cần để ý\n",
    "#dic = pd.read_csv('Total-Skillset.csv')\n"
   ]
  },
  {
   "cell_type": "code",
   "execution_count": 4,
   "metadata": {},
   "outputs": [
    {
     "name": "stdout",
     "output_type": "stream",
     "text": [
      "[JOB OFFERS] XIN CHÀO MỌI NGƯỜI!  CÔNG TY MÌNH LÀM VỀ AI VÀ HIỆN TẠI ĐANG RẤT CẦN TUYỂN DỤNG CÁC KĨ SƯ PHẦN MỀM ĐỂ PHÁT TRIỂN CƠ SỞ HẠ TẦNG CHO CÔNG TY. SALARY UPTO 3000$. 😊 TRONG VÒNG 2 THÁNG QUA, BÊN MÌNH ĐÃ TUYỂN DỤNG ĐƯỢC GẦN 30 VỊ TRÍ TẠI CÔNG TY VÀ TIẾP TỤC CÓ NHU CẦU TUYỂN THÊM NHIỀU NHÂN SỰ CHẤT LƯỢNG CAO NỮA. 😊... BÊN CẠNH SOFTWARE ENGINEERING, BÊN MÌNH CŨNG ĐANG TUYỂN RẤT NHIỀU VỊ TRÍ AI RESEARCHER VÀ AI ENGINEER THUỘC CÁC MẢNG: COMPUTER VISION, NATURAL LANGUAGE PROCESSING, ....... ETC. 😊 CÁC BẠN NÀO CẦN THÊM THÔNG TIN VỀ CÔNG VIỆC CŨNG NHƯ CÁC CHẾ ĐỘ ĐÃI NGỘ TẠI CÔNG TY, ĐỪNG NGẠI NGẦN GỬI CÂU HỎI TỚI EMAIL, HOẶC INBOX TRỰC TIẾP CHO MÌNH NHÉ. 😊 ĐÂY LÀ JD VỀ CÁC JOB BÊN MÌNH ĐANG TUYỂN: HTTPS://DRIVE.GOOGLE.COM/…/1PSWAQKQZDDKKX-9G3GOTVGSG9CJK2EQ… CẢM ƠN MNG ĐÃ QUAN TÂM!\n",
      "#GOCTUYENDUNG:  XIN PHÉP ADD! BÊN EM HIỆN ĐANG CẦN TUYỂN 02 BẠN KỸ SƯ R&D LÀM VỀ XỬ LÝ ẢNH, NHẬN DẠNG, DEEPLEARNING, XỬ LÝ NGÔN NGỮ TỰ NHIÊN (KINH NGHIỆM TỪ 01 NĂM TRỞ LÊN). LƯƠNG THƯỞNG VÀ CÁC CHẾ ĐỘ KHÁC ĐẢM BẢO HẤP DẪN - ANH.EM QUAN TÂM VUI LÒNG LIÊN HỆ MÌNH SDT: 0982716988 - MR. HỮU OR EMAIL HUUND@FSIVIETNAM.COM.VN CÔNG NGHỆ VÀ SẢN PHẨM CÁC BẠN CÓ THỂ THAM KHẢO TẠI WEBSITE BÊN MÌNH: \n",
      "[HÀ NỘI] TUYỂN DỤNG SENIOR DATA SCIENTIST – UPTO $3000 NET DEAR CẢ NHÀ, HIỆN TẠI KHÁCH HÀNG CỦA MÌNH LÀ MỘT CÔNG TY CÔNG NGHỆ LỚN ĐANG CẦN TUYỂN VỊ TRÍ SENIOR DATA SCIENTIST LÀM VIỆC TẠI HÀ NỘI. \n",
      "TÔI LÀ BIỂN, GIÁM ĐỐC KỸ THUẬT NỀN TẢNG CỦA DEHA SMART (DEHA.AI PLATFORM). LÀ MỘT CÔNG TY KHỞI NGHIỆP TRONG LĨNH VỰC TRÍ TUỆ NHÂN TẠO, CHÚNG TÔI TẬP TRUNG VÀO NGHIÊN CỨU VÀ XỬ LÝ CÁC BÀI TOÁN THỊ GIÁC MÁY TÍNH NHƯ NHẬN DIỆN KHUÔN MẶT, NHẬN DIỆN CẢM XÚC, NHẬN DIỆN VẬT THỂ  CUNG CẤP DỊCH VỤ CHO THỊ TRƯỜNG VN, ĐÔNG NAM Á VÀ NHẬT BẢN.  HIỆN NAY CHÚNG TÔI CẦN TÌM CÁC BẠN KỸ SƯ AI ĐỂ CÙNG CHÚNG TÔI THỰC HIỆN ƯỚC MƠ ĐƯA SẢN PHẨM AI CỦA VIỆT NAM RA THẾ GIỚI. ĐỐI VỚI SENIOR: CHUYÊN SÂ...U VỀ XỬ LÝ ẢNH, QUYỀN LỢI STOCK SHARE.  ĐỐI VỚI JUNIOR: TỪ 1 - 2 NĂM LÀM VỀ AI. THỰC TẬP: MÔ TẢ PHÍA DƯỚI.  THU NHẬP: THOẢ THUẬN.  CHÚNG TÔI CÓ HỖ TRỢ KINH PHÍ CHUYỂN VIỆC TRƯỚC TẾT NẾU BẠN CÓ THỂ ĐI LÀM NGAY.  BẠN CÓ THỂ APPLY THEO ĐƯỜNG LINK PHÍA DƯỚI HOẶC GỬI CV TRỰC TIẾP CHO TÔI: BIEN@DEHA-SOFT.COM.\n",
      "[HN] HI ALL, ZINZA TECHNOLOGY TUYỂN DỤNG VỊ TRÍ THỰC TẬP SINH AI DÀNH CHO CÁC BẠN TỪ NĂM NHẤT ĐẾN NĂM CUỐI. CÓ TRỢ CẤP OJT INBOX ME\n",
      "[TUYỂN THỰC TẬP SINH] #RECRUITING THAM GIA XÂY DỰNG HỆ SINH THÁI GIÁO DỤC ECOKIDS - ỨNG DỤNG CÔNG NGHỆ AI, MACHINE LEARNING PHỤC VỤ 100M+ USER.\n",
      "XÂY DỰNG HỆ THỐNG TÌM KIẾM NHẠC BẰNG ÂM THANH VỚI PYTHON VÀ APPROXIMATE NEAREST NEIGHBORS\n",
      "[SHARING IS DARING] HI MỌI NGƯỜI,  RUBIKAI - DỰ ÁN NÂNG CAO NĂNG LỰC CHO NHÂN SỰ CÔNG NGHỆ VÀ TĂNG CƯỜNG KẾT NỐI GIỮA CÁC THÀNH VIÊN TRONG CỘNG ĐỒNG AI/ML CỦA NEXUS FRONTIERTECH ĐANG TÌM KIẾM CÁC  ANH CHỊ ĐÃ TỪNG LÀM DỰ ÁN THỰC TẾ THAM GIA CHIA SẺ KINH NGHIỆM TẠI CHUỖI SỰ KIỆN RUBIKAI XSERIES: MỘT DỰ ÁN PHỔ CẬP KIẾN THỨC TRÍ TUỆ NHÂN TẠO (AI/ML) CHO CÁC NHÂN VIÊN TRONG DOANH NGHIỆP VÀ SINH VIÊN CÁC TRƯỜNG ĐẠI HỌC Ở HÀ NỘI. \n",
      "XIN PHÉP ADMIN ĐĂNG THÔNG TIN TUYỂN DỤNG Ạ. TUYỂN DỤNG NHÂN SỰ AI, BIG DATA - VIETTEL \n",
      "MÌNH NGHĨ ĐÂY LÀ MỘT SỰ KIỆN ĐÁNG LƯU TÂM DÀNH CHO NHỮNG AI   QUAN TÂM ĐẾN LĨNH VỰC NÀY BỞI INSIGHT FPT.AI TẬP TRUNG VÀO CHIỀU SÂU CÔNG NGHỆ AI, KINH NGHIỆM NGHIÊN CỨU, KIẾN TRÚC VÀ TRIỂN KHAI HỆ THỐNG AI, BỞI GẦN 65% NGƯỜI THAM DỰ LÀ LẬP TRÌNH VIÊN, NHÀ KHOA HỌC CŨNG NHƯ LÀ MANAGER/LEAD VÀ 35% LÀ BUSINESS ĐANG TÌM KIẾM PARTNERS, CLIENTS, SUPPLIERS.\n",
      "GOOGLE TÌM KIẾM ĐỌC ĐƯỢC SUY NGHĨ CỦA BẠN? TẠO LANGUAGE MODEL ĐỂ TỰ ĐỘNG SINH VĂN BẢN TIẾNG VIEET HEHE HTTPS://VIBLO.ASIA/P/TAO-LANGUAGE-MODEL-DE-TU-DONG-SINH-VAN…\n",
      "[TUYỂN DỤNG]\n",
      "9CV9 SẼ TỔ CHỨC MỘT SỰ KIỆN DÀNH CHO CÁC BẠN BEGINNER VÀ FRESHER. CHÚNG TÔI ĐANG TÌM KIẾM MỘT DIỄN GIẢ CÓ KIẾN THỨC VỀ PYTHON HOẶC MACHINE LEARNING ÍT NHẤT 3 NĂM KINH NGHIỆM VÀ CÓ THỂ DIỄN THUYẾT TRƯỚC ĐÁM ĐÔNG. NẾU BẠN QUAN TÂM, XIN VUI LÒNG LIÊN HỆ VỚI TÔI QUA EMAIL: SELENA@9CV9.COM.\n",
      "NGOÀI HÀ NỘI VÀ TPHCM THÌ CƠ HỘI VIỆC LÀM NGÀNH ML Ở CÁC TỈNH THÀNH KHÁC LÀ CỰC KỲ KHAN HIẾM. CÁC CÔNG TY THƯỜNG ĐẶT TRUNG TÂM RD Ở HAI THÀNH PHỐ NÀY ĐỂ TIỆN TUYỂN DỤNG.\n",
      "MỘT BÀI VIẾT HAY VỀ CÁC KỸ NĂNG PHỔ BIẾN TRONG NGÀNH DATA SCIENCE, THÔNG QUA THỐNG KÊ CÁC YÊU CẦU TRONG 1000 TIN TUYỂN DỤNG \n",
      "VEF ACADEMY TUYỂN TRỢ GIẢNG (TA) CHO LỚP HỌC SẮP TỚI DATA STRUCTURE & ALGORITHM TẠI HCMC. ĐÂY LÀ 1 VỊ TRÍ CÓ TRẢ LƯƠNG KÈM TRỢ CẤP ĂN TỐI CHO CÁC BUỔI HỌC. MỘT CƠ HỘI TỐT ĐỂ CÁC BẠN CÓ CƠ HỘI TIẾP XÚC VỚI NHỮNG INDUSTRY EXPERTS VÀ TĂNG KHẢ NĂNG CỦA MÌNH THÔNG QUA VIỆC GIÚP ĐỠ CÁC BẠN HỌC VIÊN. YÊU CẦU THÀNH THẠO 1 TRONG 3 NGÔN NGỮ LẬP TRÌNH: PYTHON, C++, JAVA. DEADLINE ĐĂNG KÝ LÀ 12/12. CÁC BẠN APPLY THEO LINK NÀY NHÉ: HTTP://BIT.LY/2PSROTS\n",
      "XIN CHÀO MỌI NGƯỜI, TRƯỚC HẾT XIN CÁM ƠN DIỄN ĐÀN, VÌ TỪ NGÀY MÌNH VỀ VIỆT NAM, QUA DIỄN ĐÀN, MÌNH CÓ CƠ HỘI ĐI ĐÀO TẠO VÀ TƯ VẤN AI CHO 1 SỐ DOANH NGHIỆP: NHỎ CÓ, VỪA CÓ, TO CŨNG CÓ; VỚI ĐỦ CÁC BÀI TOÁN: COMPUTER VISION CÓ, DATA CÓ, NLP CÓ. CÁ NHÂN MÌNH THẤY AI THỰC SỰ CÓ THỂ GIÚP ÍCH CHO RẤT NHIỀU DOANH NGHIỆP, VÀ DOANH NGHIỆP HOÀN TOÀN CÓ THỂ ÁP DỤNG NGAY LÚC NÀY.  LÚC ĐẦU TIÊN MÌNH NGHĨ HAY LÀ DẠY LINEAR REGRESSION, SVM,.. RỒI NEURAL NETWORK, LÀM 1 BÀI GIẢNG 1 LẦN SAU ĐI ...DẠY MÃI. NHƯNG THỰC SỰ CÁC KHÓA HỌC CHUNG CHUNG KIỂU NHƯ THẾ NÀY KHÔNG CÓ TÁC DỤNG GÌ CHO DOANH NGHIỆP, NÊN MÌNH TIẾP CẬN THEO 1 HƯỚNG KHÁC.  1. BÀI TOÁN CỦA DOANH NGHIỆP LÀ GÌ, CÓ THỂ DÙNG AI GIẢI QUYẾT KHÔNG, VÀ HIỆU QUẢ HƠN KHÔNG 2. DOANH NGHIỆP ĐÃ CÓ NHỮNG DỮ LIỆU GÌ 3. DOANH NGHIỆP CÓ NHỮNG NHÂN SỰ NHƯ THẾ NÀO ( HẦU HẾT LÚC MÌNH DẠY THÌ CÁC DOANH NGHIỆP CHƯA CÓ TEAM AI, VÌ THỰC RA CÓ TEAM RỒI THÌ CHỈ CẦN TƯ VẤN KHÔNG CẦN DẠY) 4. DOANH NGHIỆP ĐÃ CÓ TRANG THIẾT BỊ GÌ CHƯA 5. DOANH NGHIỆP CÓ BUDGET BAO NHIÊU TIỀN CHO AI\n",
      "NHỜ CÁC BẠN TRẢ LỜI VÀO TRONG DIỄN ĐÀN ĐỂ SAU DỄ TÌM KIẾM LẠI. \n",
      "TIN HOT: POKÉMON COMPANY ĐANG TUYỂN KĨ SƯ PHẦN MỀM: WHO WANNA BE THE VERY BEST ^^ HTTPS://WWW.LINKEDIN.COM/JOBS/VIEW/940619347/… 🤩\n",
      "TUYỂN THỰC TẬP SINH THAM GIA NHÓM NGHIÊN CỨU TẠI UT DALLAS THÂN CHÀO ANH/CHỊ, \n",
      "[TUYỂN DỤNG THỰC TẬP SINH CÔNG NGHỆ]\n",
      "CHÀO MỌI NGƯỜI, HIỆN TẠI EM ĐANG TÌM HIỂU VỀ CNN CHO ỨNG DỤNG XỬ LÍ VIDEO THỜI GIAN THỰC, NÊN ĐIỀU EM QUAN TÂM LÀ TỐI ƯU TỐC ĐỘ, GIẢM TRỄ XỬ LÍ. EM TÌM KIẾM GOOGLE THẤY ÍT TÀI LIỆU ĐÁNH GIÁ TRỄ XỬ LÍ ẢNH CỦA CÁC KIẾN TRÚC CNN NHƯ LÀ: ẢNH 128*128 THÌ TRỄ XỬ LÍ BAO NHIÊU MILI GIÂY VỚI RESNET, ALEXNET,.. ANH CHỊ Ở ĐÂY CÓ TÀI LIỆU VỀ PHẦN NÀY THÌ CHO EM XIN Ạ?\n",
      "[TUYỂN DỤNG - HCM] - TRUYỀN HÌNH FPT (FPT TELECOM - PAYTV). HIỆN TẠI TEAM BIGDATA MÌNH ĐANG MỞ RỘNG DỰ ÁN. NÊN CẦN TUYỂN THÊM MỘT SỐ THÀNH VIÊN.\n",
      "INFINIGRU VIỆT NAM TUYỂN DỤNG NHÂN SỰ LÀM VIỆC TẠI HÀ NỘI: \n",
      "XIN PHÉP ANH TIỆP VÀ MỌI NGƯỜI, MÌNH MUỐN CHIA SẺ THÔNG TIN TUYỂN DỤNG CỦA VIỆN HÀNG KHÔNG VỤ TRỤ VIETTEL VỀ 2 CHỨC DANH KỸ SƯ TRÍ TUỆ NHÂN TẠO VÀ KỸ SƯ PHẦN MỀM. HY VỌNG POST NÀY SẼ TÌM ĐƯỢC ỨNG VIÊN PHÙ HỢP. TRÂN THÀNH CẢM ƠN.\n",
      "NGOÀI LỀ MỘT CHÚT. MÌNH THẤY VÀI BẠN COMMENT VÀO CÁC POST TUYỂN DỤNG: \"KHÔNG BIẾT AI/ML, KHÔNG CÓ KINH NGHIỆM GÌ CÓ APPLY ĐƯỢC KHÔNG?\".\n",
      "VEF ACADEMY TUYỂN ADMIN PART TIME CÓ TRẢ LƯƠNG. VỪA ĐƯỢC HỌC DỰ THÍNH CÁC KHÓA HỌC VỪA ĐƯỢC TRẢ LƯƠNG, CÁC BẠN APPLY NHÉ :)\n",
      "[XIN PHÉP MỌI NGƯỜI] 📌HBLAB ĐANG TUYỂN 02 FRESHER AI ENGINEER, LƯƠNG ~ $700, ĐƯỢC CỬ ĐI THAM GIA KHÓA ĐÀO TẠO VỀ AI \n",
      "CHÀO MỌI NGƯỜI,  MÌNH LÀ HƯƠNG, TỪ CÔNG TY TUYỂN DỤNG RGF NHẬT BẢN.  MÌNH GỬI ĐẾN MỌI NGƯỜI THÔNG TIN TUYỂN DỤNG AI DEVELOPER CỦA MỘT CÔNG TY LIÊN DOANH VIỆT NHẬT. TEAM HIỆN ĐANG CÓ 5 NGƯỜI, ĐANG CẦN TUYỂN GẤP ĐỂ CHẠY DỰ ÁN! \n",
      "HI ALL, HIỆN ZINZA ĐANG TUYỂN 5 DỤNG VỊ TRÍ THỰC TẬP SINH AI (CÓ LƯƠNG) ⛳⛳GIỚI THIỆU VỀ TEAM AI INTERN: CÁC BẠN TRONG TEAM INTERN CỦA ZINZA ĐANG LÀ SINH VIÊN VỚI ĐỘ TUỔI RẤT TRẺ, TRONG KHOẢNG 97-2000. SAU 3 THÁNG CÁC BẠN ĐÃ THAM GIA 2 CUỘC THI LỚN: CUỘC THI VIỆT NAM HACKATHON 2018 VỚI CHỦ ĐỀ SMART CITY VÀ ĐANG THAM GIA CUỘC THI CINNAMON CHALLENGE 2018 (KẾT QUẢ HIỆN TẠI ĐẠT TOP 5 VÀ LỌT VÀO CHUNG KẾT TẠI TP HCM VÀO NGÀY 2-4/11/2018)\n",
      "[TUYỂN DỤNG VCB]\n",
      "MỌI NGƯỜI CHO MÌNH HỎI, HIỆN NHÓM MÌNH ĐANG MUỐN TÌM KIẾM 1 SERVICE TEXT2SPEECH (TIẾNG VIỆT) TỐT, THEO TIÊU CHÍ PHÁT ÂM CHUẨN MIỀN BẮC NAM VÀ CHI PHÍ KHÔNG QUÁ CAO. HIỆN MÌNH CÓ TÌM HIỂU QUA THÌ THẤY NHIỀU NGƯỜI RECOMMEND SẢN PHẨM CỦA AILAB HCMUS. THÌ CÓ AI ĐÃ/ĐANG SỬ DỤNG CHO MÌNH 1 ÍT NHẬN XÉT ĐƯỢC KHÔNG, VỀ CHẤT LƯỢNG VÀ CHI PHÍ? VÀ CÓ GIẢI PHÁP NÀO THAY THẾ? CẢM ƠN MỌI NGƯỜI\n",
      "EM CHÀO MN,  EM XIN PHÉP CHIA SẺ VỚI MN THÔNG TIN TUYỂN DỤNG CỦA BAN CÔNG NGHỆ FPT. 👍 NẰM TRONG LỘ TRÌNH PHÁT TRIỂN TỔNG THỂ DỰ ÁN FPT.AI, BAN CÔNG NGHỆ FPT ĐANG TÌM KIẾM NHIỀU CHUYÊN GIA, KỸ SƯ QUAN TÂM TỚI LĨNH VỰC NÀY.\n",
      "MÌNH CÓ THÔNG TIN TUYỂN POSTDOC CHO DỰ ÁN VỀ NHẬN DẠNG TIẾNG NÓI (ASR) Ở CHÂU ÂU. ƯU TIÊN CÁC ỨNG VIÊN ĐÃ CÓ NGHIÊN CỨU VỀ KALDI VÀ DEEP LEARNING. MÌNH NGHĨ KALDI VÀ DEEP LEARNING HIỆN LÀ BASELINE CHO CÁC BẠN LÀM ASR RỒI. ^^ \n",
      "XIN PHÉP ADMIN ĐĂNG TIN TUYỂN DỤNG Ạ BAN CÔNG NGHỆ FPT ĐANG TÌM KIẾM 02 KỸ SƯ PHẦN MỀM CHO DỰ ÁN FPT.AI SPEECH. MỌI NGƯỜI QUAN TÂM HOẶC QUEN AI LÀM TRONG LĨNH VỰC NÀY THÌ CHIA SẺ GIÚP EM VỚI Ạ, EM CẢM ƠN MN.\n",
      "VEF ACADEMY TUYỂN TRỢ GIẢNG. \n",
      "EM TUYỂN MACHINE LEARNING ONSITE TẠI INDONESIA, LƯƠNG 1K5-2K5$ NET, NƠI Ở SANG CHẢNH CTY LO. ONSITE ÍT NHẤT 1 NĂM, SAU VỀ HCM LÀM\n",
      "ĐẾN HẸN LẠI LÊN, EYEQ TECH CÔNG TY VỀ COMPUTER VISION TẠI VIETNAM TỪNG THẮNG GIẢI CỦA VISA, CẦN TUYỂN MID-SENIOR AI RESEARCHER. NẾU CHƯA CÓ KINH NGHIỆM THÌ CÓ NGẠCH FRESHER NỮA NHÉ CÁC BẠN\n",
      "XIN PHÉP ADMIN CHOA SẺ THÔNG TIN TUYỂN DỤNG ĐẾN MỌI NGƯỜI Ạ. MN AI QUAN TÂM HOẶC CÓ NGƯỜI QUEN LÀM VỀ LĨNH VỰC NÀY THÌ SHARE VÀ GIỚI THIỆU GIÚP EM NHÉ.  EM CẢM ƠN MN.\n",
      "#TUYENDUNGPYTHON #AI #MACHINELEARNING #DEEPLEARNING #DATADEVELOPMENT #RESEARCHTECHONOLOGY [GÓC TUYỂN DỤNG PYTHON] CHÀO CẢ NHÀ, MÌNH VẪN MIỆT MÀI KẾT NỐI VÀ TÌM KIẾM CÁC TÀI NĂNG IT Ở RẤT NHIỀU LĨNH VỰC. HIỆN TẠI BÊN MÌNH ĐANG OPEN MỘT SỐ VỊ TRÍ VỀ PYTHON NHƯ SAU 1️⃣ AI / ML / DL RESEARCHER 💥CHỈ CẦN CÁC BẠN:... - MASTER VỀ PYTHON/C/C++/C# - KINH NGHIỆM VỚI COMPUTER VISION/MACHINE LEARNING/DEEP LEARNING HOẶC GRAPHIC PROGRAMMING (2D & 3D, OPENGL, POINTCLOUD…)  - LÀM VỚI OPENCV, CAFFE, TENSOR FLOW… - DESIGN SKILL (UML, OBJECT ORIENTED DESIGN) 💥PHÚC LỢI KHI NHẬN OFFER: - ĐỊA ĐIỂM LÀM VIỆC: CÔNG TY NƯỚC NGOÀI TẠI HÀ NỘI - LÀM VIỆC T2-T6, CORE TIME: 09.00 - 16.00 - LƯƠNG UPTO $2000 + BONUS - ĐÀO TẠO NƯỚC NGOÀI - BẢO HIỂM NÂNG CAO VÀ NHIỀU PHÚC LỢI KHÁC…\n",
      "SAU MỘT KHOẢNG THỜI GIAN TÌM KIẾM DỮ LIỆU LYRIC NHẠC ĐÃ ĐƯỢC GẮN LABEL CÓ PHÙ HỢP VỚI TRẺ EM HAY KHÔNG THÌ CÓ VẺ EM ĐANG ĐI VÀO NGÕ CỤT NÊN E ĐỊNH SẼ XÂY DỰNG TỪ BỘ DATASET TỪ BỘ DỮ LIỆU LYRICS E ĐÃ CRAWL TỪ NHACCUATUI, E DỰ ĐỊNH SẼ LÀM TRANG WEB CHO USER NGHE NHẠC VÀ SẼ TICK XEM BÀI NHẠC NÀY LIỆU CÓ PHÙ HỢP CHO TRẺ EM HAY KHÔNG, MỌI NGƯỜI CÓ THỂ ĐÁNH GIÁ LIỆU HƯỚNG NÀY CỦA E CÓ THỂ XÂY ĐƯỢC BỘ DATASET TƯƠNG ĐỐI HỢP LÝ  ĐỂ SAU NÀY LÀM BỘ DỮ LIỆU ĐỂ TRAINING HỌC FEATURE ĐƯỢC KHÔNG Ạ. E CẢM ƠN\n",
      "CHÀO CÁC BẠN, MÌNH ĐANG TUYỂN MỘT BẠN LÀM PHD VỀ LĨNH VỰC PHÂN TÍCH KẾT CẤU XÂY DỰNG (STRUCTURAL ENGINEERING OR CIVIL ENGINEERING) ỨNG DỤNG ML, HỌC Ở DEPT. OF CIVIL AND ENVIRONMENTAL ENGINEERING, SEJONG UNIVERSITY, SOUTH OF KOREA.\n",
      "[TUYỂN DỤNG] BẠN MÌNH BÊN TRUSTING SOCIAL NHỜ ĐĂNG DÙM THÔNG TIN TUYỂN DATA ENGINEER CHO HỌ, 1 CÔNG TY FINTECH LÀM VỀ CREDIT SCORING ĐANG PHÁT TRIỂN R&D KHÁ MẠNH. CÓ CẢ VỊ TRÍ DATA SCIENTIST VÀ JUNIOR DATA SCIENTIST. BẠN NÀO QUAN TÂM THÌ XEM Ở ĐÂY NHÉ:\n",
      "[TUYỂN DỤNG VCB]\n",
      "MÌNH VỪA LƯỚT QUA TRANG FORUMS MỚI VÀ THẤY BÀI TUYỂN DỤNG NHƯ VẦY:  HTTPS://FORUM.MACHINELEARNINGCOBAN.COM/T/TUY-N-D-NG-PH…/1171 ________________________________________________ SAU ĐÂY LÀ THẮC MẮC CỦA EM CŨNG NHƯ GÓP Ý CHO ANH CHỊ NÀO TUYỂN DỤNG VỀ LĨNH VỰC ML/DS:\n",
      "CÁC ANH CHO EM HỎI CÓ CÔNG TY NÀO TUYỂN THỰC TẬP SINH LÀM VỀ MACHINE LEARNING KHÔNG? EM CẢM ƠN CÁC ANH.\n",
      "[GẤP] -GMO VIỆT NAM LAB CẦN TUYỂN GẤP KỸ SƯ BIG DATA/ MACHINE LEARNING BIẾT TIẾNG NHẬT N3 ↑(→ 1800$)\n",
      "❗TUYỂN DỤNG INTERNS/ FRESHERS/ SENIORS❗ \n",
      "DEAR ANH EM NGHIÊN CỨU VỀ COMPUTER VISION. TIN ĐÃ ĐĂNG NHƯNG DO BÊN MÌNH CHƯA TÌM ĐƯỢC ĐỒNG ĐỘI NÊN VẪN MÒN MỎI CHỜ ĐỢI VÀ TÌM KIẾM.\n",
      "HELLO ANH EM , ĐẶC BIỆT LÀ CÁC ANH/CHỊ/EM ĐANG LÀM PHD VÀ POSDOC. ANH EM NÀO ĐANG HỌC/LÀM TẠI CÁC TRƯỜNG ĐẠI HỌC THUỘC TOP 500 ĐƯỢC RANKING BỞI QS HTTPS://WWW.TOPUNIVERSITIES.COM/…/WORLD-UNIVERSITY-RAN…/2019 CÓ NHU CẦU TÌM KIẾM PARTNER ĐỂ CO-RESEARCH/IMPLEMENT CÁC RESEARCH CÓ THỂ LIÊN HỆ MÌNH. HIỆN NHÓM MÌNH ĐANG CÓ KHOẢNG TRÊN DƯỚI 10 BẠN SINH VIÊN CỨNG TAY LÀM LẬP TRÌNH RẤT KHÁ, CÓ HIỂU BIẾT SƠ BỘ VỀ KHOA HỌC : ĐẶC BIỆT LÀ LĨNH VỰC MACHINE LEARNING, OPTIMIZATION, COMPUTER V...ISION,...\n",
      "XIN CHÀO CÁC BẠN SINH VIÊN, MÌNH MUỐN TÌM KIẾM MỘT BẠN SINH VIÊN BIẾT VỀ LẬP TRÌNH PYTHON CÓ MỘT CHÚT KIẾN THỨC VỀ KERAS , SCIKIT-LEARN HAY TENSORFLOW ĐỂ XÂY DỰNG MỘT SỐ MÔ HÌNH DỰ BÁO BÊN NGÀNH KHÍ TƯỢNG THỦY VĂN, NƯỚC VÀ MÔI TRƯỜNG TẠI VIỆT NAM. CÓ BẠN SINH VIÊN NÀO HỨNG THÚ THAM GIA THÌ LIÊN HỆ VỚI MÌNH QUA EMAIL: TRAN.DUONG@TUM.DE. \n",
      "CHÀO CÁC ANH CHỊ , CÁC ANH CHỊ CHO EM HỎI , NHỮNG KIẾN THỨC CƠ BẢN CẦN CÓ ĐỂ CÓ ĐỦ ĐIỀU KIỆN XIN ĐI THỰC TẬP MACHINE LEARNING LÀ GÌ Ạ ? VÀ CÁC ANH CHỊ CÓ BIẾT CHỖ NÀO TUYỂN THỰC TẬP K Ạ ? EM XIN CHÂN THÀNH CẢM ƠN\n",
      "CHUỖI VIDEO BÀI GIẢNG \"KHÔNG GIAN HÀM SỐ: BIỂU DIỄN VÀ TÌM KIẾM\"\n",
      "HI ANH EM, HIỆN MÌNH ĐANG TUYỂN #MACHINE #LEARNING #ENGINEER ONSITE TẠI JKT - INDO 1 NĂM LƯƠNG 1,500-2500$ NET, SAU ĐÓ CÓ THỂ VỀ HCM HOẶC TIẾP TỤC Ở LẠI VỚI CHẾ ĐỘ ĐÃI NGỘ VÔ CÙNG HẤP DẪN. RẤT HI VỌNG CÓ CƠ HỘI CHIA SẺ CỤ THỂ CÙNG ANH EM. AE QUAN TÂM THÌ PING OR ADD #SKYPE: GIANGMOL ĐỂ M TRAO ĐỔI CỤ THỂ NHÉ :) CÁM ƠN MN ĐÃ ĐỌC :D\n",
      "EM CÓ 2 CÁI DỮ LIỆU VỀ NGƯỜI TÌM VIỆC VÀ DOANH NGHIỆP TUYỂN DỤNG. MẤY ANH CHỊ GỚP Ý EM LÀM THẾ NÀO ĐỂ KẾT NỐI GIỮA NGƯỜI TÌM VIỆC VÀ DOANH NGHIỆP VỚI Ạ. Y NHƯ HỆ THỐNG GỢI Ý Ạ. ANH CHỊ NÀO RÀNH VỀ FUZZY LOGIC CHO EM XIN Ý KIẾN VỚI Ạ.\n",
      "VIN UNIVERSITY ĐANG TUYỂN NHÂN SỰ.\n",
      "🔥🔥🔥[EVOLABLE ASIA HCM TUYỂN GẤP]  🏢ĐỊA ĐIỂM: 7F, DONGNHAN OFFICE BUILDING 90 NGUYEN DINH CHIEU STREET, DISTRICT 1, HCMC. 📌 AI ENGINEER - KỸ SƯ TRÍ TUỆ NHÂN TẠO ( 1000$ ~ 1800$) 🎗️ YÊU CẦU CÔNG VIỆC : – TỐT NGHIỆP CỬ NHÂN HOẶC THẠC SĨ KHOA HỌC MÁY TÍNH.... – CÓ ÍT NHẤT 1 NĂM KINH NGHIỆM VỚI DEEP LEARNING/MACHINE LEARNING. – CÓ KINH NGHIỆM LẬP TRÌNH HƯỚNG ĐỐI TƯỢNG, CÓ KHẢ NĂNG PHÁT TRIỂN MÔ HÌNH MẪU VỚI 1 HOẶC NHIỀU NGÔN NGỮ NHƯ PYTHON, C++, JAVA. – ĐỌC/VIẾT TÀI LIỆU AI/MACHINE LEARNING BẰNG TIẾNG ANH. 🎗️CÁC KĨ NĂNG MỀM: – CÓ THỂ ĐỌC VÀ HIỂU CÁC TÀI LIỆU TIẾNG ANH – Ý THỨC TINH THẦN ĐỒNG ĐỘI VÀ TRÁCH NHIỆM CAO – KĨ NĂNG GIAO TIẾP TỐT – TỰ CHỦ, TỰ XỬ LÝ KỶ LUẬT 🎗️QUYỀN LỢI: – MỨC LƯƠNG CẠNH TRANH TƯƠNG XỨNG VỚI KHẢ NĂNG VÀ KINH NGHIỆM – THỜI GIAN LÀM VIỆC 8:00~ 17:00, NGHỈ THỨ 7, CHỦ NHẬT VÀ CÁC NGÀY LỄ THEO QUY ĐỊNH – ĐIỀU CHỈNH TĂNG LƯƠNG 2 LẦN/NĂM • TRỢ GẤP ĂN TRƯA VÀ GIỮ XE – 13 THÁNG LƯƠNG – NGHỈ PHÉP: 12 NGÀY/NĂM – ĐƯỢC HƯỞNG BHXH, BHYT, BHTN THEO PHÁP LUẬT HIỆN HÀNH – BẢO HIỂM SỨC KHỎE BẢO VIỆT TOÀN PHẦN MỞ RỘNG – LÀM VIỆC TRONG MÔI TRƯỜNG NƯỚC NGOÀI CHUYÊN NGHIỆP, TRẺ, THÂN THIỆN VÀ NĂNG ĐỘNG – CƠ HỘI THĂNG TIẾN TRONG CÔNG VIỆC CAO – THAM GIA LỚP TIẾNG NHẬT, TIẾNG ANH DO CÔNG TY TỔ CHỨC; THAM GIA CÁC CÂU LẠC BỘ BÓNG ĐÁ, BƠI LỘI, YOGA, NHIẾP ẢNH,… – KHÁM SỨC KHỎE ĐỊNH KỲ 1 LẦN/NĂM TẠI CÁC BỆNH VIỆN UY TÍN. – DU LỊCH, KICK OFF ĐỊNH KỲ HÀNG QUÝ, HÀNG NĂM. NỘP CV = TIẾNG ANH. 💌💌💌CV GỬI VỀ MR. MINH: EMAIL: MINHTD@EVOLABLEASIA.VN SKYPE: MINHMULTIMEDIA FB: WWW.FACEBOOK.COM/MINH.TRAN.0303 THANKS ALL.\n",
      "[HOT JOB] OSP-GLOBAL TUYỂN VÀ ĐÀO TẠO VỊ TRÍ FRESHER DATA SCIENTIST\n",
      "CHÀO MỌI NGƯỜI. EM VỪA THI ĐẠI HỌC XONG NĂM NAY, BÂY GIỜ SẮP PHẢI CHỐT NGUYỆN VỌNG RỒI MÀ EM CÒN PHÂN VÂN GIỮA CHƯƠNG TRÌNH KHOA HỌC MÁY TÍNH ĐẠI TRÀ (NẾU HỌC THÌ MỤC TIÊU CỦA EM LÀ VÀO KỸ SƯ TÀI NĂNG) VÀ CHẤT LƯỢNG CAO (CLC) CỦA ĐH BK HCM. VÌ THEO EM BIẾT THÌ CLC DẠY CÁC MÔN CHUYÊN NGÀNH BẰNG TIẾNG ANH CÒN ĐẠI TRÀ THÌ BẰNG TIẾNG VIỆT, EM KHÔNG BIẾT GIÁO TRÌNH CỦA CLC CÓ PHẢI CỦA NƯỚC NGOÀI KHÔNG HAY LÀ TRƯỜNG TỰ SOẠN. EM CÓ ĐỊNH HƯỚNG DU HỌC VỀ DATA SCIENCE. EM CŨNG CÓ THEO ...HỌC NHỮNG KHÓA HỌC ONLINE TRÊN COURSERA VÀ UDEMY BẰNG TIẾNG ANH. VẬY EM NÊN THEO HƯỚNG NÀO THÌ TỐT HƠN CHO VIỆC DU HỌC Ạ? VÀ NẾU EM KHÔNG HỌC CLC THÌ LÀM SAO ĐỂ CHỨNG MINH KHẢ NĂNG SỬ DỤNG TIẾNG ANH CHUYÊN NGÀNH CỦA MÔN VỚI NHÀ TUYỂN DỤNG VÀ TUYỂN SINH Ạ?  XIN CẢM ƠN MỌI NGƯỜI Ạ. PS: EM KHÁ TỰ TIN LÀ ĐIỂM THI CỦA MÌNH CÓ THỂ ĐẬU MỌI NGUYỆN VỌNG TRONG NGÀNH NÊN NẾU CÓ THÊM LỰA CHỌN NÀO THÌ MỌI NGƯỜI TƯ VẤN THÊM GIÚP EM VỚI Ạ.\n",
      "#DISCUSS #THẮCMẮC #THẢOLUẬN THÂN CHÀO CÁC BẠN,  MÌNH ĐÃ TÌM KIẾM VÀ ĐỌC NHIỀU TÀI LIỆU RỒI, NHƯNG VẪN CHƯA CÓ MỘT KHÁI NIỆM RÕ RÀNG VỀ CÁC NỘI DUNG SAU. CÓ BẠN NÀO TRONG NGÀNH CÓ MỘT CÁI NHÌN PHÂN BIỆT GIỮA CÁC VẤN ĐỀ SAU KO, CÙNG THẢO LUẬN NHA: \n",
      "XIN CHÀO CÁC ANH, CHỊ VÀ CÁC BẠN, EM XIN PHÉP CHIA SẺ ĐẾN MỌI NGƯỜI MỘT CƠ HỘI LÀM VIỆC LIÊN QUAN ĐẾN AI, CỤ THỂ LÀ CÁC BÀI TOÁN VỀ XỬ LÝ CHỮ VIẾT TAY, XỬ LÝ HÌNH ẢNH, NGÔN NGỮ TỰ NHIÊN VÀ HỆ THỐNG RECOMMENDATION TRÊN NỀN TẢNG MACHINE LEARNING, DEEP LEARNING. VỚI VIỆC PHÁT TRIỂN PRODUCT RIÊNG, CINNAMON AI LABS HY VỌNG CÓ THỂ ĐƯỢC HỢP TÁC VỚI CÁC ANH, CHỊ, CÁC BẠN TRẺ QUAN TÂM VÀ CÓ ĐỊNH HƯỚNG PHÁT TRIỂN TƯƠNG ĐỒNG. CHI TIẾT CÔNG VIỆC, EM XIN ĐỂ TRONG LINK: HTTPS://BIT.LY/2J2J...32S ĐỊA ĐIỂM LÀM VIỆC: HÀ NỘI, HỒ CHÍ MINH  HÌNH THỨC LÀM VIÊC: CHÍNH THỨC, FULL TIME HỒ SƠ ỨNG TUYỂN XIN VUI LÒNG GỬI VỀ: TALENT@CINNAMON.IS NẾU MỌI NGƯỜI CÓ BẤT CỨ CÂU HỎI KHÁC VỀ CTY VÀ VỊ TRÍ NÀY, MỌI NGƯỜI CÓ THỂ IB TRỰC TIẾP EM HOẶC GỬI EMAIL VỀ ĐỊA CHỈ NHƯ TRÊN. EM XIN CHÂN THÀNH CẢM ƠN!\n",
      "💢💢HBLAB TUYỂN AI ENGINEER \n",
      "CHÀO CÁC BẠN, TEAM CỦA MÌNH Ở CẦU GIẤY - HÀ NỘI, ĐANG TUYỂN CÁC BẠN SINH VIÊN NĂM CUỐI TỚI THỰC TẬP MẢNG COMPUTER VISION.\n",
      "EM CHÀO ANH TIỆP VÀ MỌI NGƯỜI. EM CÓ 2 VẤN ĐỀ MÀ EM CHƯA THỰC SỰ HIỂU RÕ MONG ANH VÀ MỌI NGƯỜI GIÚP ĐỠ Ạ: 1, PHƯƠNG PHÁP ĐÁNH GIÁ HIỆU NĂNG CỦA MỘT HỆ THỐNG HỌC MÁY STRATIFIED SAMPLING LÀ GÌ VÀ ĐƯỢC THỰC HIỆN CỤ THỂ NHƯ THẾ NÀO? 2, THEO EM BIẾT, HIỆN TƯỢNG OVERFITTING TRONG CÁC BÀI TOÁN HỌC MÁY CÓ GIÁM SÁT LÀ HIỆN TƯỢNG MÔ HÌNH TÌM ĐƯỢC QUÁ KHỚP VỚI DỮ LIỆU TRAINNING. VẬY EM CÓ THẮC MẮC LÀ TRONG CÁC BÀI TOÁN HỌC MÁY KHÔNG GIÁM SÁT THÌ HIỆN TƯỢNG NÀY XẢY RA NHƯ THẾ NÀO Ạ? EM ĐÃ CÓ TÌM KIẾM TRÊN GOOGLE NHƯNG CHƯA TÌM ĐƯỢC LỜI GIẢI THÍCH THỎA ĐÁNG. EM RẤT MONG NHẬN ĐƯỢC SỰ GIÚP ĐỠ CỦA MỌI NGƯỜI Ạ. EM XIN CẢM ƠN.\n",
      "FACEBOOK MỚI CÓ CHỨC NĂNG 'ADD TOPICS' (GẦN GIỐNG VỚI HASHTAGS) CHO CÁC POSTS TRONG GROUP. MÌNH VỪA TÌM LẠI MỘT SỐ BÀI NỔI BẬT VÀ ADD TOPIC CHO CHÚNG. CÁC BẠN CÓ THÊM MỘT CÁCH TÌM KIẾM HIỆU QUẢ TRƯỚC KHI HỎI. \n",
      "CHÀO MỌI NGƯỜI! EM CÓ BIẾT ĐẾN CÁC KHÓA HỌC CỦA STANFORD QUA BLOG CỦA CHỊ HUYỀN CHIP. SAU MỘT HỒI TÌM KIẾM THÌ EM THẤY CÓ NHỮNG KHÓA CÓ VIDEO, TÀI LIỆU RẤT RÕ RÀNG (VÍ DỤ NHƯ CS109, CS231N,...) NHƯNG CÓ NHỮNG COURSES THÌ EM KHÔNG THỂ TÌM NỔI VIDEO TRÊN MẠNG BÀI GIẢNG CỦA LECTURER (VÍ DỤ STATS 202, CS221,...). VẬY MỌI NGƯỜI CÓ THỂ CHỈ EM CÁCH ĐỂ TIẾP CẬN NHỮNG VIDEO BÀI GIẢNG ĐÓ ĐƯỢC KHÔNG Ạ. EM XIN CẢM ƠN.\n",
      "XIN CHÀO MỌI NGƯỜI. HIỆN TẠI EM ĐANG TÌM HIỂU VỀ DATA WAREHOUSE MÀ TÌM KIẾM TRÊN MẠNG THÌ QUÁ TRỜI THỨ. ANH CHỊ BẠN NÀO TỪNG TÌM HIỂU VỀ VẤN ĐỀ NÀY RỒI CHO EM ÍT THÔNG TIN. EM XIN CÁM ƠN!\n",
      "E CHÀO MN. E ĐANG THỰC HIỆN 1 ĐỒ ÁN  VỚI ĐỀ TÀI LÀ XÂY DỰNG 1 CHATBOT HỖ TRỢ NGƯỜI DÙNG TÌM KIẾM VIỆC LÀM. VÍ DỤ BOT SẼ HỎI NGƯỜI DÙNG BẠN THUỘC ĐỐI TƯỢNG NÀO (SINH VIÊN,SINH VIÊN ĐÃ TỐT NGHIỆP,VV) THÊM 1 VÀI THÔNG TIN KHÁC NHƯ LOẠI HÌNH CÔNG VIỆC, DỰA VÀO ĐÓ THÌ BOT SẼ ĐƯA RA CÔNG VIỆC PHÙ HỢP.  VỀ DỮ LIỆU CÁC CÔNG VIỆC THÌ E ĐÃ THU THẬP ĐƯỢC , VẤN ĐỀ TÌM 1 THƯ VIỆN NLP PHÙ HỢP (CHO TIẾNG VIỆT) VÀ VAASND DỀ INTENT CLASSIFICATION CHO BOT LÀ E ĐANG BỊ VƯỚNG. DO LÀ ĐỒ ÁN NÊN E QUYẾT ĐỊNH KHÔNG SỬ DỤNG PLATFORM NHƯ API.AI HAY WIT.AI MÀ SẼ LÀ TỰ CODE CHO PHẦN NÀY.  A CÓ THỂ CHO E 1 VÀI KEYWORD VỀ CÁCH XÂY DỰNG TẬP INTENT THỦ CÔNG VÀ 1 SỐ PHƯƠNG PHÁP CLASSIFICATION ĐƯỢC KHÔNG Ạ. E CẢM ƠN MỌI NGƯỜI.\n",
      "THĂM DÒ,  BẠN CÓ ỦNG HỘ VIỆC ĐĂNG CÁC CÂU HỎI LIÊN QUAN ĐẾN TUYỂN DỤNG NGÀNH MACHINE LEARNING, DATA SCIENCE, HAY THẬM CHÍ SOFTWARE ENGINEER LÊN GROUP KHÔNG?  CÁC CÂU HỎI NÀY BAO GỒM QUY TRÌNH TUYỂN DỤNG NÓI CHUNG VÀ CÁC CÂU HỎI HAY TỪNG GẶP TRONG PHỎNG VẤN. (KHÔNG PHẢI ĐĂNG THÔNG TIN TUYỂN DỤNG). MÌNH KHÔNG MUỐN LOÃNG GROUP, NHƯNG CÁC CÂU HỎI NÀY LẠI ĐƯỢC RẤT NHIỀU COMMENT NÊN CÓ THỂ NHIỀU BẠN QUAN TÂM.  TẦN SUẤT CỦA VIỆC NÀY SẼ PHỤ THUỘC VÀO TỈ LỆ GIỮA CÁC LỰA CHỌN 'KHÔNG' V...À 'CÓ'. ADMIN SẼ LÀ NGƯỜI QUYẾT ĐỊNH TỈ LỆ ĐÓ.  CẢM ƠN CÁC BẠN \n",
      "EM XIN HỎI MẤY CÂU HƠI VU VƠ, EM HỌC VỀ TÀI CHÍNH NHƯNG SAU MỘT BUỔI ĐI OFF VỚI CÁC BẠN LẬP TRÌNH VIÊN, VẬY LÀ MÊ LUÔN TỪ ĐÓ TỰ MÀY MÒ. SẮP TỚI EM THI TUYỂN FRESHER FPT COBOL, EM CÓ 2 CÂU HỎI HY VỌNG MỌI NGƯỜI GIẢI: 1)CÁC ANH CÁC BẠN NÀO CÓ TÀI LIỆU VỀ CÁC KIÊN THỨC CƠ BẢN VỀ: CẤU TRÚC DỮ LIỆU VÀ GIẢI THUẬT, THUẬT TOÁN SẮP XẾP, CƠ SỞ DỮ LIỆU CÓ THỂ CHỈ CHO EM KHÔNG Ạ? CHO E XIN E MÀY MÒ. 2) TÌNH HÌNH COBOL PHÁT TRIỂN THẾ NÀO RỒI Ạ?\n",
      "XIN PHÉP ADMIN POST BÀI TUYỂN DỤNG Ở ĐÂY NHÉ :)\n",
      "#TUYENDUNG XIN PHÉP ADMIN CHO MÌNH ĐĂNG BÀI :D [HN]_ A.I / MACHINE LEARNING ENGINEER (AI) TRƯỚC TẾT CÓ TUYỂN NHƯNG CHƯA TÌM ĐƯỢC NGƯỜI PHÙ HỢP NÊN MÌNH ĐĂNG LẠI :D HOT JOB DÀNH CHO NHỮNG BÁC QUAN TÂM VÀ MONG MƯƠN MUỐN LÀM VIỆC TẠI CÁC CÔNG TY NHẬT BẢN !!!!! BẠN LÀ DÂN IT ? BẠN ĐÃ BÉN DUYÊN VỚI NGHỀ ĐÃ LÂU NHƯNG CHƯA TÌM DC CHỐN DUNG THÂN? BẠN MONG MUỐN TÌM CÔNG VIỆC ĐÚNG VỚI CHUYÊN NGÀNH HỌC VỚI MỨC LƯƠNG HẤP DẪN CÙNG CÁC CHẾ ĐỘ ĐÃI NGỘ TỐT?... CƠ HỘI CÓ 1-0-2 DÀNH CHO CÁC HUYNH ĐỆ LÀM VIỆC TRONG MÔI TRƯỜNG LÍ TƯỞNG, LƯƠNG 8 CON SỐ ĐÊ!!!! HÃY VỀ VỚI ĐỘI CỦA MIYATSU - NƠI CÁC CHIẾN BINH NHẬT BẢN TÀI HOA ĐANG TÌM KIẾM ĐỒNG ĐỘI BỊ THẤT LẠC BẤY LÂU NAY VỀ ĐẢM NHẬN VỊ TRÍ MACHINE LEARNING VỚI CÁC OFFER HẤP DẪN NHƯ SAU: • MỨC LƯƠNG KHÔNG THỂ KHÔNG SUY NGHĨ: $1700-$2200 • LƯƠNG THÁNG 14,REVIEW LƯƠNG HẰNG NĂM • THỜI GIAN LÀM VIỆC : 8H-17H ( T2-T6) • LÀM VIỆC TRONG MÔI TRƯỜNG NĂNG ĐỘNG,CÓ NHIỀU CƠ HỘI THĂNG TIẾN. ĐỒ ĂN,THỨC UỐNG FREE NGẬP TRÀN • CÁC KHOẢN PHỤ CẤP HẤP DẪN + THƯỞNG THÊM CHO TEAM 2 LẦN/NĂM. PHỤ CẤP CHĂM SÓC SẮC ĐẸP 400K/1 THÁNG ( NHÂN VIÊN NỮ) • 2 THÁNG THỬ VIỆC 100% LƯƠNG • DU LỊCH HẰNG NĂM VỚI 2 KÌ NGHỈ HÈ VÀ MÙA ĐÔNG YÊU CẦU CÔNG VIỆC : • TỐT NGHIỆP CÁC CHUYÊN NGÀNH LIÊN QUAN ĐẾN CNTT • TỐI THIỂU 2 NĂM KINH NGHIỆM • TIẾNG ANH TỐT LÀ 1 LỢI THẾ NHANH TAY ỨNG TUYỂN ĐI CÁC BÁC ƠI!!!! CV GỬI VỀ MAIL : NGUYEN0SYHIEU@GMAIL.COM VỚI TIÊU ĐỀ [HN]MIYATSU_HỌ VÀ TÊN. THẮC MẮC CỨ INB MÌNH NHA!!!!!!!!!! ĐỊA CHỈ LÀM VIỆC: CÔNG TY MIYATSU,TÒA NHÀ LADECO, 266 ĐỘI CẤN, BA ĐÌNH, HÀ NỘI\n",
      "NHỜ GROUP NÀY MÀ CÔNG TY MÌNH TUYỂN ĐƯỢC VÀI BẠN INTERN. BÂY GIỜ FULL RỒI, CẦN TÌM THÊM ĐỒNG ĐỘI KHÔNG CHUYÊN AI, VÌ ÔNG NÀO CŨNG ĐÒI LÀM AI THÌ LẤY AI RA LÀM ENGINEERING!\n",
      "CHÀO MỌI NGƯỜI. HIỆN TẠI CÔNG TY EM ĐANG CÓ NHU CẦU TUYỂN DỤNG VỊ TRÍ MACHINE LEARNING ENGINEER [ $800-$1500] - CÓ THỂ LÀM VIỆC SAU TẾT\n",
      "TRONG GROUP CÓ NHIỀU BÊN MUỐN TUYỂN NGƯỜI LÀM ML/AI, NHƯNG CÓ VẺ GẶP KHÓ KHĂN TRONG VIỆC VIẾT MÔ TẢ CÔNG VIỆC (JOB DESCRIPTION) VÀ YÊU CẦU TỐI THIỂU (MINIMUM REQUIREMENTS). NGOÀI RA, CHÍNH NHỮNG NGƯỜI PHỎNG VẤN CŨNG CÓ NHỮNG HẠN CHẾ VỀ KINH NGHIỆM VÌ NGÀNH NÀY KHÁ MỚI Ở VIỆT NAM. MÌNH NGHĨ ĐÂY LÀ MỘT CHỦ ĐỀ KHÁ THÚ VỊ ĐỂ THẢO LUẬN. \n",
      "#TRANSFERLEARNING #IMAGERETRIEVAL #PRODUCTQUANTIZATION #VGG  HÔM NAY MÌNH LÀM MỘT THÍ NGHIỆM NHO NHỎ CHO BÀI TOÁN TÌM KIẾM BẰNG HÌNH ẢNH. MẶC DÙ ĐÃ BIẾT SỨC MẠNH CỦA TỪNG BỘ PHẬN CẤU THÀNH NÊN THUẬT TOÁN, MÌNH VẪN KHÔNG KHỎI KINH NGẠC KHI NHÌN VÀO KẾT QUẢ. \n",
      "TUYỂN DỤNG: THỰC TẬP SINH NLP / CHATBOT/ SEARCH ENGINE\n",
      "CHÀO MẤY ANH CHỊ. EM ĐANG GẶP VẤN ĐỀ NHƯ SAU: DỰA VÀO NHỮNG THÔNG TIN CỦA ỨNG VIÊN NHƯ: TRÌNH ĐỘ HỌC VẤN, KINH NGHIỆM, KỸ NĂNG.... HỆ THỐNG SẼ TỰ ĐỘNG GỢI Ý NHỮNG NHÀ TUYỂN DỤNG(CŨNG DỰA VÀO THÔNG TIN CÔNG VIỆC CỦA TUYỂN DỤNG) PHÙ HỢP CHO ỨNG VIÊN ĐÓ.  NHƯ VẬY THÌ MÌNH DÙNG THUẬT TOÁN HAY KỸ THUẬT NÀO PHÙ HỢP VẬY MỌI NGƯỜI? EM CẢM ƠN Ạ.\n",
      "ANH CHỊ CHO EM HỎI VỚI Ạ.  EM ĐANG NGHIÊN CỨU THUẬT TOÁN LINEAR REGRESSION. TRONG PHẦN NÀY AD CÓ NÊU LÊN NHƯỢC ĐIỂM CỦA PHƯƠNG PHÁP LÀ NHẠY CẢM VỚI NHIỄU. VÀ PHƯƠNG PHÁP XỬ LÝ LÀ PRE-PROCESSING, LOẠI BỎ NHIỄU TRƯỚC. MỌI NGƯỜI CÓ THỂ GIẢI THÍCH CHO EM CỤ THỂ HƠN ĐƯỢC KHÔNG Ạ ? EM ĐANG TÌM KIẾM MÀ VẪN CHƯA CÓ CÂU TRẢ LỜI! \n",
      "CHÀO MỌI NGƯỜI, MÌNH MUỐN TÌM MỘT TẬP DỮ LIỆU TRAIN CÓ DẠNG LỊCH SỬ ĂN UỐNG CỦA USER HÀNG NGÀY BAO GỒM CÁC THÔNG TIN VỀ USER (GIỚI TÍNH, TUỔI, CHIỀU CAO, CÂN NẶNG); THÔNG TIN VỀ NHỮNG THỰC PHẨM ĐÃ ĂN TRONG CÁC BUỔI TRONG NGÀY, TUẦN VÀ THÁNG, … VÀ THÔNG TIN THỜI GIAN TĂNG, GIẢM TRỌNG LƯỢNG CỦA USER TRONG MỘT KHOẢNG THỜI GIAN, THÔNG TIN VỀ CÁC LOẠI BỆNH VỀ ĐƯỜNG TIÊU HÓA HOẶC DỊ ỨNG THỰC PHẨM. MÌNH ĐÃ TÌM KIẾM TRÊN MẠNG NHƯNG VẪN CHƯA TÌM ĐƯỢC TẬP DỮ LIỆU CÓ DẠNG NHƯ VẬY. MỌI NGƯỜI CÓ AI BIẾT TẬP DỮ LIỆU NHƯ THẾ NÀY, HOẶC TƯƠNG TỰ, CÓ THỂ CHO MÌNH XIN NGUỒN ĐƯỢC KHÔNG Ạ? MÌNH CẢM ƠN RẤT NHIỀU.\n",
      "GIỜ E MUỐN LÀM 1 THUẬT TOÁN TÌM KIẾM TRONG DỮ LIỆU CÓ BÀI VIẾT ẢNH VIDEO.... THÌ NÊN TÌM HIỂU LOẠI NÀO Ạ, MẤY THUẬT TOÁN CỦA MACHINE LEARNING CÓ NHANH K Ạ. SEARCH TRONG KHOẢNG VÀI PHẦN GIÂY Ý Ạ\n",
      "CHÀO CÁC BẠN. TUẦN TRƯỚC MÌNH CÓ UP CÂU HỎI NÀY LÊN ĐỂ HỎI LỖI, CÁM ƠN CẤC BẠN ĐÃ GIÚP ĐỠ VÀ MÌNH ĐÃ CÀI THÀNH CÔNG (SAU 1 TUẦN ĐẬP ĐI XÂY LẠI KHÔNG BIẾT BAO NHIÊU LẦN). GIỜ MÌNH CHIA SẼ MỘT SỐ BÍ QUYẾT CHO CÁC BẠN NẾU MUỐN TỰ CÀI OPENCV TRÊN MÁY WINDOW. CÁCH THỨ 1: ĐƠN GIẢN NHẤT LÀ CHẠY CMD (QUYỀN ADMIN). GÕ LỆNH PIP INSTALL OPENCV-PYTHON (MÌNH MẶC ĐỊNH LÀ CÁC BẠN ĐỀU CÀI PYTHON RỒI NHÉ 🙂 ) CÁCH THỨ 2: PHỨC TẠP HƠN (VÀ MÌNH LÀM THÀNH CÔNG CÁCH NÀY) BUILD TỪ SOURCE, ƯU ĐIỂM H...ƠN CÁI KIA LÀ SẼ TÙY CHỈNH ĐƯỢC NHIỀU CÁI HƠN, THÊM THẮT VỌC VẠY NHIỀU CÁI HƠN, MÌNH SẼ NÓI VỀ CÁCH NÀY. - TRÊN TRANG CỦA OPENCV CÓ HƯỚNG DẪN CÁCH CÀI, TUY NHIÊN KHI GẶP LỖI VÀ LÊN GG TÌM KIẾM THÌ RẤT LÀ NHỌC VÌ CHẢ THẤY NƠI NÀO BÁO LỖI CẢ HTTP://DOCS.OPENCV.ORG/…/…/TUTORIAL_PY_SETUP_IN_WINDOWS.HTML - NHƯ THẾ NÀO THÌ COI LÀ BUILD THÀNH CÔNG? ĐÓ LÀ KHI BẠN BUILD BẰNG VISUAL STUDIO (KHUYẾN NGHỊ DÙNG BẢN 2015) THÌ SAU KHI BUILD XONG KHÔNG CÓ LỖI NÀO CẢ. - VẬY KHI CÓ MỘT ĐỐNG LỖI DÀY ĐẶC XUẤT HIỆN THÌ LÀM THAO :3. CÂU TRẢ LỜI LÀ BẠN CLICK ĐÚP CHUỘT VÔ LỖI ĐÓ, SAU ĐÓ BẠN MỞ LẠI QUA TAB OUTPUT THÌ NÓ SẼ TRỎ TỚI PHẦN BUILD MÀ NÓ BỊ LỖI. SAU ĐÓ VÔ LẠI CMAKE VÀ BỎ TICK Ở CÁI THÀNH PHẦN ĐÓ VÀ GENERATE LẠI LÀ XONG. SỬA LỖI TỪ TRÊN XUỐNG, VÌ CÓ NHIỀU THÀNH PHẦN LIÊN KẾT VỚI NHAU NÊN LỖI DÂY CHUYỀN. SAU KHI BỎ TỪNG PHẦN LỖI RỒI BUILD LẠI, SỬA TIẾP NẾU LỖI :3, CỨ THẾ CHO ĐẾN KHI NÀO KHÔNG CÒN LỖI NỮA. - KHI MUỐN CÁI THÊM CÁC MODULE NHƯ PROTOBUFF,  MATLAB, EIGEN, LAPACK, OPENBLAS... THÌ CÁC BẠN BUILD HOẶC INSTALL TRƯỚC CÁC CÁI ĐÓ, RỒI VÀO CMAKE TÍCH VÀO Ô ADVANTAGE CẠNH Ô SEARCH, TÌM KIẾM TÊN VÍ DỤ NHƯ PROTOBUFF THÌ NÓ SẼ HIỆN LÊN CÁC THÔNG SÔ NHƯ LIB, INCLUDE, EXECUTABLE.. VÀ CÁC BẠN TRỎ ĐỊA CHỈ TỚI THƯ MỤC, LIB ĐÓ, RỒI GENERATE. NẾU CMAKE KHÔNG BÁO LỖI ĐỎ VÀ KIỂM TRA LẠI TRÊN CMAKE BÁO THÀNH PHẦN THÊM VÀO ĐÃ HIỆN LÀ YES THÌ BẠN ĐÃ ADD THÀNH CÔNG. - CÓ MỘT SỐ LỖI MÌNH HAY GẶP NHẤT LÀ FATAL ERROR CANNOT OPEN... THÌ LỖI CHÍNH LÀ DO MODULE PHÍA TRÊN KHÔNG BUILD THÀNH CÔNG, DẪN TỚI CÁC MODULE PHÍA DƯỚI BỊ LỖI. TÌM VÀ BỎ BUILD CÁI ĐÓ. - CUỐI CÙNG LÀ BUILD INSTALL TRONG VS THÌ NẾU BUILD VÀO PYTHON THÌ PHẢI CHẠY DƯỚI QUYỀN ADMIN NHÉ. CHÚC MỌI NGƯỜI BUILD THÀNH CÔNG.\n",
      "CHO MÌNH HỎI VỀ TÌNH HÌNH VIỆC LÀM MACHINE LEARNING DEV/ DATA SCIENTIST Ở VIỆT NAM, THEO MÌNH SEARCH THÌ CÓ MỘT SỐ CÔNG TY TUYỂN NHƯNG ĐA PHẦN LÀ MASTER/PHD VÀ CÓ KINH NGHIỆM. VẬY MONG MỌI NGƯỜI GIÚP ĐỠ THÊM THÔNG TIN VỀ TÌNH HÌNH VIỆC LÀM, GIỚI THIỆU NHỮNG CÔNG TY CÓ TUYỂN VỊ TRÍ MACHINE LEARNING DEV/ DATA SCIENTIST Ở VỊ TRÍ FRESHER. CẢM ƠN MỌI NGƯỜI!\n",
      "#OBJECTDETECTION #PATTERNRECOGNITION CHÀO CÁC TIỀN BỐI! CÁC TIỀN BỐI CÓ KINH NGHIỆM TRONG COMPUTER VISION CHỈ GIÁO GIÚP EM VỚI! HIỆN TẠI EM ĐANG GIẢI BIẾT BÀI TOÀN OBJECT DETECTION. EM ĐÃ DÙNG THỬ SURF ĐỂ MATCH OBJECT VÀO SCENE VÀ CHO KẾT QUẢ KHÁ OK.  TUY NHIÊN ĐỂ TĂNG ĐỘ CHÍNH XÁC THÌ EM MUỐN DÙNG MACHINE LEARNING ĐỂ GIẢI QUYẾT. CỤ THỂ NHƯ SAU:... - SURF DETECT 'KEY POINTS' VÀ DESCRIPTORS CỦA OBJECT. KEYPOINT & DESCRIPTORS LÀ 1 LIST. MỖI OBJECT CÓ 1 KEYPOINT LIST KHÁC NHAU. VÀ VỚI CÙNG 1 OBJECT THÌ CŨNG CÓ NHIỀU KEY POINT LIST KHÁC NHAU TƯƠNG ỨNG VỚI CÁC HÌNH ẢNH MÔ TẢ TRẠNG THÁI KHÁC NHAU CỦA OBJECT.  CÂU HỎI CỦA EM LÀ: VỚI FEATURE DẠNG LIST KHÔNG CÓ ĐỊNH SIZE NHƯ THẾ THÌ EM NÊN GIẢI QUYẾT NHƯ THẾ NÀO?  EM ĐÃ TÌM KIẾM CÁC PHƯƠNG PHÁP THÌ THẤY CÓ 1 PHƯƠNG PHÁP KHÁ PHỔ BIẾN LÀ ÁP DỤNG \"BAG OF VISUAL WORDS\" SỬ DỤNG VECTOR QUANTIZATION. PHƯƠNG PHÁP NÀY ÁNH XẠ KEYPOINTS TỚI WORDS RỒI TẠO VOCABULARY CHO OBJECT. NGHĨA LÀ VỚI MỖI TRẠNG THÁI CỦA OBJECT TA CÓ 1 VOCABULARY. TIẾP THEO LÀ SỬ DỤNG NÓ ĐỂ TRAIN MODEL. CÁI KHÓ KHĂN EM ĐANG GẶP PHẢI LÀ CHƯA BIẾT ÁP DỤNG PHƯƠNG PHÁP NÀY THẾ NÀO. THỰC CHẤT LÀ CHƯA BIẾT TỰ CODE THẾ NÀO KHI MÀ TÀI LIỆU KHÔNG MÔ TẢ RÕ RÀNG LẮM. OPENCV 3. CÓ HỖ TRỢ BAGOFWORD NHƯNG SURF LẠI LÀ NON-FREE TRÊN OPENCV3. TÓM LẠI, BÁC NÀO CHỈ GIÁO CHO EM CÁCH GIẢI QUYẾT VẤN ĐỀ FEATURE DẠNG LIST NÀY VỢI Ạ? THANKS CÁC BÁC NHIỀU!\n",
      "MỘT VÀI CHIA SẺ VỚI CÁC BẠN BẮT ĐẦU HỌC VỀ MACHINE LEARNING, KHI GẶP THUẬT TOÁN HAY KỸ THUẬT NÀO ĐÓ KHÓ HIỂU VÀ MUỐN TÌM THÊM TÀI LIỆU ĐỂ HIỂU THÌ CÓ THỂ TÌM KIẾM GOOGLE VỚI CÁC CỤM TỪ SAU, GIẢ SỬ DẤU * LÀ CỤM TỪ BẠN TÌM KIẾM.\n",
      "XIN PHÉP ADMIN MÌNH CHIA SẺ VỀ JOB CHO ANH EM TRONG GROUP Ạ. [TUYỂN DỤNG] BÊN ĐƠN VỊ MÌNH (THUỘC FPT SOFTWARE) ĐANG CÓ NHU CẦU TUYỂN VỚI SỐ LƯỢNG KHÔNG HẠN CHẾ CÁC BẠN LÀM VIỆC CHO CÁC DỰ ÁN VỀ: - AR (AUGMENTED REALITY) - AI (ARTIFICIAL INTELLIGENCE)... - IMAGE PROCESSING - IOT (INTERNET OF THINGS) - CLOUD COMPUTING (AWS, AZURE) - MACHINE LEARNING - E-LEARNING - PRINTER  - ANDROID SMART TV - ANDROID APPLICATION - IOS APPLICATION CẦN BIẾT MỘT TRONG SỐ CÁC NGÔN NGỮ SAU: - C/C++ - ANDROID - IOS - JAVA - .NET - XAMARIN - SWIFF - KOTLIN - PHP - HTML/CSS/JAVASCRIPT - PYTHON - RUBY ON RAILS YÊU CẦU: - ĐÃ RA TRƯỜNG HOẶC SINH VIÊN NHƯNG CÓ THỂ LÀM FULLTIME - SKILL CHƯA TỐT CÓ THỂ ĐÀO TẠO HƯỞNG LƯƠNG NHƯNG CẦN NHẤT LÀ KIÊN TRÌ, NHANH NHẸN, CẦU TIẾN. NƠI LÀM VIỆC: - HÀ NỘI (CẦU GIẤY/HOÀ LẠC/THÀNH CÔNG/VPI) - ĐÀ NẴNG - TP.HCM - NƯỚC NGOÀI (NHẬT, MỸ, HÀN): PASS PHỎNG VẤN VÀ LẤY ĐƯỢC VISA. ĐƯỢC GÌ: - MÔI TRƯỜNG LÀM VIỆC THÂN THIỆN, CỞI MỞ. CỰC TRONG LÀNH, XE ĐƯA ĐÓN TẬN NƠI NẾU LÀM TRÊN HOÀ LẠC. - DỰ ÁN LỚN NHỎ ĐỀU CÓ: 5/10/20/30... HAY THẬM CHÍ 500 NGƯỜI. - QUY TRÌNH PHẦN MỀM TỐT NHẤT - LÀM VIỆC VỚI NHIỀU CHUYÊN GIA KINH NGHIỆM NHẤT LƯƠNG: TRAO ĐỔI TRỰC TIẾP TRONG VÀ SAU PHỎNG VẤN. ANH CHỊ EM NÀO THẤY BẢN THÂN, NGƯỜI QUEN PHÙ HỢP NHỜ GIỚI THIỆU GIÚP MÌNH. CV GỬI VỀ:  TRINHDUYDTVT@GMAIL.COM HOẶC DUYTD3@FSOFT.COM.VN TIÊU ĐỀ MAIL: GHI GIÚP MÌNH VỊ TRÍ MUỐN ỨNG TUYỂN. CẢM ƠN MỌI NGƯỜI!\n",
      "[TÌM AE ĐỒNG CHÍ HỘI] -------------------------------------------- #STARTUP #TUYENDUNG #JAVA #WEB #DATASCIENTIST #DEVELOPER #SANGTAO XIN PHÉP AD CHO E ĐƯỢC ĐĂNG BÀI NÀY Ạ :) CHÀO AE, MÌNH ĐANG TRIỂN KHAI MỘT DỰ ÁN STARTUP KHÁ TIỀM NĂNG. VÀ MANG LẠI GIÁ TRỊ CAO CHO CỘNG ĐỒNG. MÌNH ĐANG TÌM KIẾM NHỮNG LẬP TRÌNH VIÊN (WEB / JAVA / DATA SCIENTIST) GIỎI, TRÊN ĐỊA BÀN HÀ NỘI, ĐỂ CÙNG ĐỒNG HÀNH, VÀ GIÚP MÌNH THAM GIA, PHÁT TRIỂN DỰ ÁN, VÀ BIẾN NÓ THÀNH HIỆN THỰC :D... ----------- NẾU BẠN ĐÃ CHÁN NGẮT KHI PHẢI LÀM NHỮNG CÔNG VIỆC OUTSOURCE. CHỈ ĐÂU LÀM ĐẤY, MUỐN ĐƯỢC THỬ SỨC TRONG MÔI TRƯỜNG STARTUP, ĐƯỢC TỰ MÌNH SÁNG TẠO, VÀ XÂY DỰNG NÊN NHỮNG SẢN PHẨM TUYỆT VỜI, MANG LẠI GIÁ TRỊ CAO, GIÚP ĐỠ CHO THẬT NHIỀU NGƯỜI. HÃY INBOX VỚI MÌNH QUA NICK FACE NÀY HOẶC LIÊN HỆ VỚI MÌNH QUA EMAIL : THANGPHUNG.WORK@GMAIL.COM NHÉ, MÌNH SẼ CỐ TRẢ LỜI NHANH CHÓNG NHẤT CÓ THỂ ;) RẤT VUI KHI ĐƯỢC CÙNG LÀM VIỆC VỚI BẠN\n",
      "CHÀO CẢ NHÀ, MÌNH ĐANG TÌM HIỂU THUẬT TOÁN NAIVE BAYES THÌ GẶP THUẬT NGỮ \"INDUCTIVE LEARNING\" THẤY KHÓ HIỂU. TÌM KIẾM GOOGLE THÌ THẤY CÒN CÓ THUẬT NGỮ \"DEDUCTIVE LEARNING\". BẠN NÀO GIÚP MÌNH GIẢI THÍCH CÁC THUẬT NGỮ NÀY VỚI.\n",
      "CHÀO CẢ NHÀ, NHÂN NGÀY HÀ NỘI MÁT GIỜI, EM XIN VIẾT VÀI DÒNG TÂM SỰ VỀ CÂU CHUYỆN HÙNG HỤC ĐI TUYỂN DEV LÀM MACHINE LEARNING CỦA EM. \n",
      "GIỜ MÌNH MUỐN LÀM MỘT ỨNG DỤNG NHẬN DIỆN KHUÔN MẶT ĐƠN GIẢN. ĐỂ CÓ THỂ HIỂU ĐƯỢC QUY TRÌNH CỦA NÓ, CÁCH TRÍCH RÚT ĐẶC TRƯNG KHUÔN MẶT VÀ TRAINING. MÌNH ĐANG TÌM KIẾM MỘT TUTORIAL ĐỂ LÀM THEO. MỌI NGƯỜI GIÚP ĐỠ Ạ CẢM ƠN Ạ\n",
      "CÁC BÁC CHO HỎI, GOOGLE CÓ CUNG CẤP THÔNG TIN TÌM KIẾM CỦA NGƯỜI DÙNG KHÔNG ? VÌ THẤY KHI VÀO TRANG GOOGLE TÌM KIẾM THỨ GÌ ĐÓ, KHI VÀO FACEBOOK LÀ NÓ HIỆN QUẢNG CÁO NỘI DUNG VỪA TÌM BÊN GOOGLE SANG.\n"
     ]
    }
   ],
   "source": [
    "kw2 = ['hiring',\"tìm kiếm\", \"tuyển\",\"ứng tuyển\",\"hire\", \"nhân sự\", \"chúng tôi cần tìm\"]\n",
    "kw=['nhân viên','lương', 'việc', 'offer', 'salary', 'position', 'find', 'mức lương', 'kinh nghiệm', 'vị trí']\n",
    "kw2 = [i.upper() for i in kw2]\n",
    "sheet = workbook.sheet_by_name('Sheet1')\n",
    "dicts=[]\n",
    "posts=[]\n",
    "c=0\n",
    "script=''\n",
    "a=[]\n",
    "'''for cell in sheet.col(2):\n",
    "        post=cell.value\n",
    "        for word in kw:\n",
    "            if word in post:\n",
    "                v=0\n",
    "                for w in kw2:\n",
    "                    if w in post:\n",
    "                        v=1\n",
    "                        break\n",
    "                if v==0:\n",
    "                    print('--------',post)'''\n",
    "\n",
    "for cell in sheet.col(2):\n",
    "        # ở đây nó lấy cột 3 trong file excel , bao gồm cả dòng đầu tiên, là ô (\"content\")\n",
    "        #nên lát nó xuất ra file ecel kết quả nhớ bỏ dòng kq đầu tiên, coppy từ ô thứ 2\n",
    "        v=0;\n",
    "        post=cell.value\n",
    "        post=post.upper()\n",
    "        for word in kw2:\n",
    "            if word in post:\n",
    "                print(post)\n",
    "                v=1;\n",
    "                a.append(v)\n",
    "                break;\n",
    "        if v==0:\n",
    "            a.append(v)\n",
    "# we get 91/2411 post in this page.\n",
    "#print(kw)\n",
    "#script"
   ]
  },
  {
   "cell_type": "code",
   "execution_count": 6,
   "metadata": {},
   "outputs": [],
   "source": [
    "df = pd.DataFrame({'yes?no':a})\n",
    "\n",
    "writer = ExcelWriter('yes-no-BasicML.xlsx')\n",
    "# ở đây nó lấy cột 3 trong file excel , bao gồm cả dòng đầu tiên, là ô (\"content\")\n",
    "#nên lát nó xuất ra file ecel kết quả nhớ bỏ dòng kq đầu tiên, coppy từ ô thứ 2\n",
    "#\n",
    "#chạy tới đây là trong jupiternotebook có file yes-no-BasicML.xlsx, tải file này về\n",
    "# lấy kq trong file này, coppy qua bên file excel gốc, sau đó, lọc lấy những bài có ô tương ứng là 1\n",
    "# làm cả 3 nhóm như vậy\n",
    "#Data Science & Big Data Vietnam.xlsx\n",
    "#[VN] Business Analytics & Decision Making Community.xlsx\n",
    "#vietnam.data.scientists.xlsx\n",
    "#----- sau đó, xem từng post bằng tay, xem post nào k phải thì xóa luôn nha\n",
    "df.to_excel(writer,'Sheet1',index=False)\n",
    "writer.save()"
   ]
  },
  {
   "cell_type": "markdown",
   "metadata": {},
   "source": [
    "upper = [i.upper() for i in dicts]\n",
    "temp_script = script.upper()"
   ]
  },
  {
   "cell_type": "code",
   "execution_count": null,
   "metadata": {},
   "outputs": [],
   "source": []
  },
  {
   "cell_type": "markdown",
   "metadata": {},
   "source": [
    "a=[]\n",
    "c=0\n",
    "count_dict = {}\n",
    "for i in upper:\n",
    "    temp=temp_script.count(i)\n",
    "    count_dict[i] = temp\n",
    "    c+=1;\n",
    "    a.append(temp)"
   ]
  },
  {
   "cell_type": "markdown",
   "metadata": {},
   "source": [
    "import operator\n",
    "sorted_x = sorted(count_dict.items(), key=operator.itemgetter(1), reverse=True)\n",
    "test = dict((x,y) for x,y in sorted_x[:38])"
   ]
  },
  {
   "cell_type": "markdown",
   "metadata": {},
   "source": [
    "pd.set_option('display.max_colwidth', -1)\n",
    "df = pd.DataFrame({'post':posts})\n"
   ]
  },
  {
   "cell_type": "markdown",
   "metadata": {},
   "source": [
    "'''sw=['gửi CV','sự','Xin phép','giới thiệu','đó','chị','mọi người','dự án','lĩnh vực','hỏi','vị','công','những','rất','thêm','khá','Cuộc thi','công việc','Lĩnh vực','biết','đã','lương','bài','cả','thành','câu hỏi','phải','nhưng','năm','tuyển','đang tuyển','thông tin','quan tâm','bên mình','biết','theo','Nội','mình','trí','nếu','thể','phát triển','hình','gì','trong', 'sinh viên','ứng viên' ,'Hà','này','mọi người','tại','mức lương','Mức','nhà','em','anh chị','https','www','nhận','Đại','hỗ trợ','hổ','công ty','sau','từ','phần mềm','giải pháp','việc','cũng','cần tuyển','nhé','đào tạo','nhất','hiện','Anh','kiến thức','sẽ','tốt', 'còn','hoặc','in','đào tạo','thông tin','quan tâm','tốt nghiệp','trên','nào','làm', 'với', 'tới', 'liên', 'hệ', 'vui', 'lòng', 'nhiều', 'Việt', 'Nam', 'tham', 'gia', 'số','và', 'kinh', 'nghiệm', 'cơ', 'của', 'vào','không', 'sử', 'dụng', 'cũng', 'thì', 'nên', 'hội', 'yêu', 'cầu', 'như', 'có', 'để', 'cho', 'các',  'bạn', 'và', 'hấp', 'dẫn', 'đăng' ,'ký', 'về', 'and', 'là', 'một', 'là', 'khi', 'mà', 'được']\n",
    "wordcloud = WordCloud(max_font_size=300, max_words=150, width = 5000, height=2500,background_color=\"black\", stopwords = sw).generate(script)\n",
    "plt.imshow(wordcloud, interpolation='bilinear')\n",
    "plt.axis(\"off\")\n",
    "plt.show()'''\n"
   ]
  },
  {
   "cell_type": "markdown",
   "metadata": {
    "scrolled": true
   },
   "source": [
    "'''a=ar.array('l',list(test.values()))\n",
    "sk = list(test.keys())\n",
    "skill = pd.DataFrame({'Skill':sk,'PostNumber':a}).set_index('Skill')\n",
    "skill.iplot(kind='bar', xTitle=\"Skills\", yTitle=\"Quantity\" )'''"
   ]
  },
  {
   "cell_type": "markdown",
   "metadata": {},
   "source": [
    "# VietNamDataSienctist\n"
   ]
  },
  {
   "cell_type": "code",
   "execution_count": 277,
   "metadata": {},
   "outputs": [
    {
     "data": {
      "text/plain": [
       "'ml2.xlsx'"
      ]
     },
     "execution_count": 277,
     "metadata": {},
     "output_type": "execute_result"
    }
   ],
   "source": [
    "fi = \"ml2.xlsx\"\n",
    "\n",
    "workbook2 = xlrd.open_workbook(fi)\n",
    "\n",
    "dic = pd.read_csv('Total-Skillset.csv')\n",
    "fi"
   ]
  },
  {
   "cell_type": "code",
   "execution_count": 280,
   "metadata": {},
   "outputs": [
    {
     "name": "stdout",
     "output_type": "stream",
     "text": [
      "Post count=  133\n"
     ]
    }
   ],
   "source": [
    "kw = ['hiring','nhân viên','lương', 'việc', 'offer', 'salary', 'position', 'hire', 'find', 'mức lương', 'kinh nghiệm', 'tuyển', 'vị trí']\n",
    "sheet2 = workbook2.sheet_by_name('Sheet1')\n",
    "x = []\n",
    "cs=0\n",
    "scr=''\n",
    "posts = []\n",
    "for cell2 in sheet2.col(2):\n",
    "        post2=cell2.value\n",
    "        #print(post2)\n",
    "        for word in kw:\n",
    "            if word in post2:\n",
    "                x.append(post2)\n",
    "                posts.append(post2)\n",
    "                cs+=1\n",
    "                scr += post2\n",
    "                break\n",
    "print('Post count= ',cs)\n",
    "xy=[]\n",
    "c=0\n",
    "dicts = []\n",
    "for i in range(0, 172):\n",
    "        xy = dic2['skill'].iloc[i]\n",
    "        \n",
    "        #if xy not in dicts:\n",
    "            #c+=1\n",
    "        dicts.append(xy)"
   ]
  },
  {
   "cell_type": "code",
   "execution_count": 283,
   "metadata": {},
   "outputs": [],
   "source": [
    "upper = [i.upper() for i in dicts]\n",
    "temp_scr = scr.upper()"
   ]
  },
  {
   "cell_type": "code",
   "execution_count": null,
   "metadata": {},
   "outputs": [],
   "source": []
  },
  {
   "cell_type": "code",
   "execution_count": 289,
   "metadata": {},
   "outputs": [],
   "source": [
    "a=[]\n",
    "c=0\n",
    "count_dict2 = {}\n",
    "for i in upper:\n",
    "    temp=temp_scr.count(i)\n",
    "    count_dict2[i] = temp\n",
    "    c+=1;\n",
    "    a.append(temp)\n",
    "    "
   ]
  },
  {
   "cell_type": "code",
   "execution_count": 290,
   "metadata": {},
   "outputs": [],
   "source": [
    "import operator\n",
    "sorted_x = sorted(count_dict2.items(), key=operator.itemgetter(1), reverse=True)\n",
    "test2 = dict((x,y) for x,y in sorted_x[:38])"
   ]
  },
  {
   "cell_type": "code",
   "execution_count": 291,
   "metadata": {},
   "outputs": [
    {
     "data": {
      "application/vnd.plotly.v1+json": {
       "config": {
        "linkText": "Export to plot.ly",
        "plotlyServerURL": "https://plot.ly",
        "showLink": true
       },
       "data": [
        {
         "marker": {
          "color": "rgba(255, 153, 51, 0.6)",
          "line": {
           "color": "rgba(255, 153, 51, 1.0)",
           "width": 1
          }
         },
         "name": "PostNumber",
         "orientation": "v",
         "text": "",
         "type": "bar",
         "uid": "b8d1ba71-ab6f-4e06-a792-e650f0ecb368",
         "x": [
          "GO",
          "MACHINE LEARNING",
          "PYTHON",
          "KAGGLE",
          "JAVA",
          " R ",
          "HADOOP",
          "NLP",
          "DATA MINING",
          "VISUALIZATION",
          "SQL",
          "ALGORITHM",
          "DATA ANALYTICS",
          "MARKETING",
          "TENSORFLOW",
          "PHP",
          "PLATFORM",
          "GIT",
          "C++",
          "SKLEARN",
          "COMPUTER SCIENCE",
          "STATISTICS",
          "SPARK",
          "CLOUD",
          "SCALA",
          "MATLAB",
          "RUBY",
          "GGPLOT",
          "MYSQL",
          "TABLEAU",
          "KAFKA",
          "IMAGE PROCESSING",
          "BUSINESS ANALYST",
          "HBASE",
          "MAPREDUCE",
          "EXCEL",
          "DOCKER",
          "TEAMWORK"
         ],
         "y": [
          38,
          18,
          12,
          12,
          11,
          10,
          9,
          7,
          6,
          6,
          5,
          5,
          5,
          4,
          4,
          3,
          3,
          3,
          2,
          2,
          2,
          2,
          2,
          2,
          1,
          1,
          1,
          1,
          1,
          1,
          1,
          1,
          1,
          1,
          1,
          1,
          1,
          1
         ]
        }
       ],
       "layout": {
        "legend": {
         "bgcolor": "#F5F6F9",
         "font": {
          "color": "#4D5663"
         }
        },
        "paper_bgcolor": "#F5F6F9",
        "plot_bgcolor": "#F5F6F9",
        "title": {
         "font": {
          "color": "#4D5663"
         }
        },
        "xaxis": {
         "gridcolor": "#E1E5ED",
         "showgrid": true,
         "tickfont": {
          "color": "#4D5663"
         },
         "title": {
          "font": {
           "color": "#4D5663"
          },
          "text": "Skills"
         },
         "zerolinecolor": "#E1E5ED"
        },
        "yaxis": {
         "gridcolor": "#E1E5ED",
         "showgrid": true,
         "tickfont": {
          "color": "#4D5663"
         },
         "title": {
          "font": {
           "color": "#4D5663"
          },
          "text": "Quantity"
         },
         "zerolinecolor": "#E1E5ED"
        }
       }
      },
      "text/html": [
       "<div id=\"b9a09b4a-128e-477e-aa87-64391162ecbb\" style=\"height: 525px; width: 100%;\" class=\"plotly-graph-div\"></div><script type=\"text/javascript\">require([\"plotly\"], function(Plotly) { window.PLOTLYENV=window.PLOTLYENV || {};window.PLOTLYENV.BASE_URL=\"https://plot.ly\";Plotly.newPlot(\"b9a09b4a-128e-477e-aa87-64391162ecbb\", [{\"marker\": {\"color\": \"rgba(255, 153, 51, 0.6)\", \"line\": {\"color\": \"rgba(255, 153, 51, 1.0)\", \"width\": 1}}, \"name\": \"PostNumber\", \"orientation\": \"v\", \"text\": \"\", \"x\": [\"GO\", \"MACHINE LEARNING\", \"PYTHON\", \"KAGGLE\", \"JAVA\", \" R \", \"HADOOP\", \"NLP\", \"DATA MINING\", \"VISUALIZATION\", \"SQL\", \"ALGORITHM\", \"DATA ANALYTICS\", \"MARKETING\", \"TENSORFLOW\", \"PHP\", \"PLATFORM\", \"GIT\", \"C++\", \"SKLEARN\", \"COMPUTER SCIENCE\", \"STATISTICS\", \"SPARK\", \"CLOUD\", \"SCALA\", \"MATLAB\", \"RUBY\", \"GGPLOT\", \"MYSQL\", \"TABLEAU\", \"KAFKA\", \"IMAGE PROCESSING\", \"BUSINESS ANALYST\", \"HBASE\", \"MAPREDUCE\", \"EXCEL\", \"DOCKER\", \"TEAMWORK\"], \"y\": [38, 18, 12, 12, 11, 10, 9, 7, 6, 6, 5, 5, 5, 4, 4, 3, 3, 3, 2, 2, 2, 2, 2, 2, 1, 1, 1, 1, 1, 1, 1, 1, 1, 1, 1, 1, 1, 1], \"type\": \"bar\", \"uid\": \"6a44b1cd-5f41-406d-bf7f-b439d63eab3f\"}], {\"legend\": {\"bgcolor\": \"#F5F6F9\", \"font\": {\"color\": \"#4D5663\"}}, \"paper_bgcolor\": \"#F5F6F9\", \"plot_bgcolor\": \"#F5F6F9\", \"title\": {\"font\": {\"color\": \"#4D5663\"}}, \"xaxis\": {\"gridcolor\": \"#E1E5ED\", \"showgrid\": true, \"tickfont\": {\"color\": \"#4D5663\"}, \"title\": {\"text\": \"Skills\", \"font\": {\"color\": \"#4D5663\"}}, \"zerolinecolor\": \"#E1E5ED\"}, \"yaxis\": {\"gridcolor\": \"#E1E5ED\", \"showgrid\": true, \"tickfont\": {\"color\": \"#4D5663\"}, \"title\": {\"text\": \"Quantity\", \"font\": {\"color\": \"#4D5663\"}}, \"zerolinecolor\": \"#E1E5ED\"}}, {\"showLink\": true, \"linkText\": \"Export to plot.ly\", \"plotlyServerURL\": \"https://plot.ly\"})});</script><script type=\"text/javascript\">window.addEventListener(\"resize\", function(){window._Plotly.Plots.resize(document.getElementById(\"b9a09b4a-128e-477e-aa87-64391162ecbb\"));});</script>"
      ],
      "text/vnd.plotly.v1+html": [
       "<div id=\"b9a09b4a-128e-477e-aa87-64391162ecbb\" style=\"height: 525px; width: 100%;\" class=\"plotly-graph-div\"></div><script type=\"text/javascript\">require([\"plotly\"], function(Plotly) { window.PLOTLYENV=window.PLOTLYENV || {};window.PLOTLYENV.BASE_URL=\"https://plot.ly\";Plotly.newPlot(\"b9a09b4a-128e-477e-aa87-64391162ecbb\", [{\"marker\": {\"color\": \"rgba(255, 153, 51, 0.6)\", \"line\": {\"color\": \"rgba(255, 153, 51, 1.0)\", \"width\": 1}}, \"name\": \"PostNumber\", \"orientation\": \"v\", \"text\": \"\", \"x\": [\"GO\", \"MACHINE LEARNING\", \"PYTHON\", \"KAGGLE\", \"JAVA\", \" R \", \"HADOOP\", \"NLP\", \"DATA MINING\", \"VISUALIZATION\", \"SQL\", \"ALGORITHM\", \"DATA ANALYTICS\", \"MARKETING\", \"TENSORFLOW\", \"PHP\", \"PLATFORM\", \"GIT\", \"C++\", \"SKLEARN\", \"COMPUTER SCIENCE\", \"STATISTICS\", \"SPARK\", \"CLOUD\", \"SCALA\", \"MATLAB\", \"RUBY\", \"GGPLOT\", \"MYSQL\", \"TABLEAU\", \"KAFKA\", \"IMAGE PROCESSING\", \"BUSINESS ANALYST\", \"HBASE\", \"MAPREDUCE\", \"EXCEL\", \"DOCKER\", \"TEAMWORK\"], \"y\": [38, 18, 12, 12, 11, 10, 9, 7, 6, 6, 5, 5, 5, 4, 4, 3, 3, 3, 2, 2, 2, 2, 2, 2, 1, 1, 1, 1, 1, 1, 1, 1, 1, 1, 1, 1, 1, 1], \"type\": \"bar\", \"uid\": \"6a44b1cd-5f41-406d-bf7f-b439d63eab3f\"}], {\"legend\": {\"bgcolor\": \"#F5F6F9\", \"font\": {\"color\": \"#4D5663\"}}, \"paper_bgcolor\": \"#F5F6F9\", \"plot_bgcolor\": \"#F5F6F9\", \"title\": {\"font\": {\"color\": \"#4D5663\"}}, \"xaxis\": {\"gridcolor\": \"#E1E5ED\", \"showgrid\": true, \"tickfont\": {\"color\": \"#4D5663\"}, \"title\": {\"text\": \"Skills\", \"font\": {\"color\": \"#4D5663\"}}, \"zerolinecolor\": \"#E1E5ED\"}, \"yaxis\": {\"gridcolor\": \"#E1E5ED\", \"showgrid\": true, \"tickfont\": {\"color\": \"#4D5663\"}, \"title\": {\"text\": \"Quantity\", \"font\": {\"color\": \"#4D5663\"}}, \"zerolinecolor\": \"#E1E5ED\"}}, {\"showLink\": true, \"linkText\": \"Export to plot.ly\", \"plotlyServerURL\": \"https://plot.ly\"})});</script><script type=\"text/javascript\">window.addEventListener(\"resize\", function(){window._Plotly.Plots.resize(document.getElementById(\"b9a09b4a-128e-477e-aa87-64391162ecbb\"));});</script>"
      ]
     },
     "metadata": {},
     "output_type": "display_data"
    }
   ],
   "source": [
    "a2=ar.array('l',list(test2.values()))\n",
    "sk2 = list(test2.keys())\n",
    "skill = pd.DataFrame({'Skill':sk2,'PostNumber':a2}).set_index('Skill')\n",
    "skill.iplot(kind='bar', xTitle=\"Skills\", yTitle=\"Quantity\" )"
   ]
  },
  {
   "cell_type": "code",
   "execution_count": null,
   "metadata": {},
   "outputs": [],
   "source": []
  }
 ],
 "metadata": {
  "kernelspec": {
   "display_name": "Python 3",
   "language": "python",
   "name": "python3"
  },
  "language_info": {
   "codemirror_mode": {
    "name": "ipython",
    "version": 3
   },
   "file_extension": ".py",
   "mimetype": "text/x-python",
   "name": "python",
   "nbconvert_exporter": "python",
   "pygments_lexer": "ipython3",
   "version": "3.7.1"
  }
 },
 "nbformat": 4,
 "nbformat_minor": 2
}
