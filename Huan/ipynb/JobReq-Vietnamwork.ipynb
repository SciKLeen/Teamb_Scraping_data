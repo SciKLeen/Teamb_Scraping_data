{
 "cells": [
  {
   "cell_type": "markdown",
   "metadata": {},
   "source": [
    "# Job requirement analysis - VietNamWork"
   ]
  },
  {
   "cell_type": "code",
   "execution_count": 2,
   "metadata": {},
   "outputs": [
    {
     "data": {
      "text/html": [
       "<script type=\"text/javascript\">window.PlotlyConfig = {MathJaxConfig: 'local'};</script><script type=\"text/javascript\">if (window.MathJax) {MathJax.Hub.Config({SVG: {font: \"STIX-Web\"}});}</script><script>requirejs.config({paths: { 'plotly': ['https://cdn.plot.ly/plotly-latest.min']},});if(!window._Plotly) {require(['plotly'],function(plotly) {window._Plotly=plotly;});}</script>"
      ],
      "text/vnd.plotly.v1+html": [
       "<script type=\"text/javascript\">window.PlotlyConfig = {MathJaxConfig: 'local'};</script><script type=\"text/javascript\">if (window.MathJax) {MathJax.Hub.Config({SVG: {font: \"STIX-Web\"}});}</script><script>requirejs.config({paths: { 'plotly': ['https://cdn.plot.ly/plotly-latest.min']},});if(!window._Plotly) {require(['plotly'],function(plotly) {window._Plotly=plotly;});}</script>"
      ]
     },
     "metadata": {},
     "output_type": "display_data"
    },
    {
     "data": {
      "text/html": [
       "<script type=\"text/javascript\">window.PlotlyConfig = {MathJaxConfig: 'local'};</script><script type=\"text/javascript\">if (window.MathJax) {MathJax.Hub.Config({SVG: {font: \"STIX-Web\"}});}</script><script>requirejs.config({paths: { 'plotly': ['https://cdn.plot.ly/plotly-latest.min']},});if(!window._Plotly) {require(['plotly'],function(plotly) {window._Plotly=plotly;});}</script>"
      ],
      "text/vnd.plotly.v1+html": [
       "<script type=\"text/javascript\">window.PlotlyConfig = {MathJaxConfig: 'local'};</script><script type=\"text/javascript\">if (window.MathJax) {MathJax.Hub.Config({SVG: {font: \"STIX-Web\"}});}</script><script>requirejs.config({paths: { 'plotly': ['https://cdn.plot.ly/plotly-latest.min']},});if(!window._Plotly) {require(['plotly'],function(plotly) {window._Plotly=plotly;});}</script>"
      ]
     },
     "metadata": {},
     "output_type": "display_data"
    }
   ],
   "source": [
    "import plotly.plotly as py\n",
    "import plotly.graph_objs as go\n",
    "import array as ar\n",
    "from plotly.offline import iplot, init_notebook_mode\n",
    "\n",
    "import cufflinks\n",
    "cufflinks.go_offline(connected=True)\n",
    "init_notebook_mode(connected=True)\n",
    "import pandas as pd"
   ]
  },
  {
   "cell_type": "markdown",
   "metadata": {},
   "source": [
    "# Data engineer"
   ]
  },
  {
   "cell_type": "markdown",
   "metadata": {},
   "source": [
    "chart in quatity"
   ]
  },
  {
   "cell_type": "code",
   "execution_count": 3,
   "metadata": {
    "scrolled": true
   },
   "outputs": [
    {
     "data": {
      "application/vnd.plotly.v1+json": {
       "config": {
        "linkText": "Export to plot.ly",
        "plotlyServerURL": "https://plot.ly",
        "showLink": true
       },
       "data": [
        {
         "marker": {
          "color": "rgba(255, 153, 51, 0.6)",
          "line": {
           "color": "rgba(255, 153, 51, 1.0)",
           "width": 1
          }
         },
         "name": "PostNumber",
         "orientation": "v",
         "text": "",
         "type": "bar",
         "uid": "fc3bcaf9-7f75-496e-8fe4-bbd69c541639",
         "x": [
          "TOTAL",
          "English",
          "Analytic",
          "Excel",
          "SQL",
          "Statistics",
          "Python",
          "Big Data",
          "Java",
          "Teamwork",
          "Problem Solving",
          "Algorithm",
          "NoSQL",
          "Oracle",
          "Visualization"
         ],
         "y": [
          64,
          44,
          36,
          31,
          26,
          14,
          10,
          8,
          8,
          8,
          8,
          7,
          7,
          6,
          6
         ]
        }
       ],
       "layout": {
        "legend": {
         "bgcolor": "#F5F6F9",
         "font": {
          "color": "#4D5663"
         }
        },
        "paper_bgcolor": "#F5F6F9",
        "plot_bgcolor": "#F5F6F9",
        "title": {
         "font": {
          "color": "#4D5663"
         }
        },
        "xaxis": {
         "gridcolor": "#E1E5ED",
         "showgrid": true,
         "tickfont": {
          "color": "#4D5663"
         },
         "title": {
          "font": {
           "color": "#4D5663"
          },
          "text": "Skills"
         },
         "zerolinecolor": "#E1E5ED"
        },
        "yaxis": {
         "gridcolor": "#E1E5ED",
         "showgrid": true,
         "tickfont": {
          "color": "#4D5663"
         },
         "title": {
          "font": {
           "color": "#4D5663"
          },
          "text": "Quantity"
         },
         "zerolinecolor": "#E1E5ED"
        }
       }
      },
      "text/html": [
       "<div id=\"0539e944-7e54-4e52-8354-c0307159fb6e\" style=\"height: 525px; width: 100%;\" class=\"plotly-graph-div\"></div><script type=\"text/javascript\">require([\"plotly\"], function(Plotly) { window.PLOTLYENV=window.PLOTLYENV || {};window.PLOTLYENV.BASE_URL=\"https://plot.ly\";Plotly.newPlot(\"0539e944-7e54-4e52-8354-c0307159fb6e\", [{\"marker\": {\"color\": \"rgba(255, 153, 51, 0.6)\", \"line\": {\"color\": \"rgba(255, 153, 51, 1.0)\", \"width\": 1}}, \"name\": \"PostNumber\", \"orientation\": \"v\", \"text\": \"\", \"x\": [\"TOTAL\", \"English\", \"Analytic\", \"Excel\", \"SQL\", \"Statistics\", \"Python\", \"Big Data\", \"Java\", \"Teamwork\", \"Problem Solving\", \"Algorithm\", \"NoSQL\", \"Oracle\", \"Visualization\"], \"y\": [64, 44, 36, 31, 26, 14, 10, 8, 8, 8, 8, 7, 7, 6, 6], \"type\": \"bar\", \"uid\": \"dee25f65-53e8-4f9c-ad3e-aaf085a9dd48\"}], {\"legend\": {\"bgcolor\": \"#F5F6F9\", \"font\": {\"color\": \"#4D5663\"}}, \"paper_bgcolor\": \"#F5F6F9\", \"plot_bgcolor\": \"#F5F6F9\", \"title\": {\"font\": {\"color\": \"#4D5663\"}}, \"xaxis\": {\"gridcolor\": \"#E1E5ED\", \"showgrid\": true, \"tickfont\": {\"color\": \"#4D5663\"}, \"title\": {\"text\": \"Skills\", \"font\": {\"color\": \"#4D5663\"}}, \"zerolinecolor\": \"#E1E5ED\"}, \"yaxis\": {\"gridcolor\": \"#E1E5ED\", \"showgrid\": true, \"tickfont\": {\"color\": \"#4D5663\"}, \"title\": {\"text\": \"Quantity\", \"font\": {\"color\": \"#4D5663\"}}, \"zerolinecolor\": \"#E1E5ED\"}}, {\"showLink\": true, \"linkText\": \"Export to plot.ly\", \"plotlyServerURL\": \"https://plot.ly\"})});</script><script type=\"text/javascript\">window.addEventListener(\"resize\", function(){window._Plotly.Plots.resize(document.getElementById(\"0539e944-7e54-4e52-8354-c0307159fb6e\"));});</script>"
      ],
      "text/vnd.plotly.v1+html": [
       "<div id=\"0539e944-7e54-4e52-8354-c0307159fb6e\" style=\"height: 525px; width: 100%;\" class=\"plotly-graph-div\"></div><script type=\"text/javascript\">require([\"plotly\"], function(Plotly) { window.PLOTLYENV=window.PLOTLYENV || {};window.PLOTLYENV.BASE_URL=\"https://plot.ly\";Plotly.newPlot(\"0539e944-7e54-4e52-8354-c0307159fb6e\", [{\"marker\": {\"color\": \"rgba(255, 153, 51, 0.6)\", \"line\": {\"color\": \"rgba(255, 153, 51, 1.0)\", \"width\": 1}}, \"name\": \"PostNumber\", \"orientation\": \"v\", \"text\": \"\", \"x\": [\"TOTAL\", \"English\", \"Analytic\", \"Excel\", \"SQL\", \"Statistics\", \"Python\", \"Big Data\", \"Java\", \"Teamwork\", \"Problem Solving\", \"Algorithm\", \"NoSQL\", \"Oracle\", \"Visualization\"], \"y\": [64, 44, 36, 31, 26, 14, 10, 8, 8, 8, 8, 7, 7, 6, 6], \"type\": \"bar\", \"uid\": \"dee25f65-53e8-4f9c-ad3e-aaf085a9dd48\"}], {\"legend\": {\"bgcolor\": \"#F5F6F9\", \"font\": {\"color\": \"#4D5663\"}}, \"paper_bgcolor\": \"#F5F6F9\", \"plot_bgcolor\": \"#F5F6F9\", \"title\": {\"font\": {\"color\": \"#4D5663\"}}, \"xaxis\": {\"gridcolor\": \"#E1E5ED\", \"showgrid\": true, \"tickfont\": {\"color\": \"#4D5663\"}, \"title\": {\"text\": \"Skills\", \"font\": {\"color\": \"#4D5663\"}}, \"zerolinecolor\": \"#E1E5ED\"}, \"yaxis\": {\"gridcolor\": \"#E1E5ED\", \"showgrid\": true, \"tickfont\": {\"color\": \"#4D5663\"}, \"title\": {\"text\": \"Quantity\", \"font\": {\"color\": \"#4D5663\"}}, \"zerolinecolor\": \"#E1E5ED\"}}, {\"showLink\": true, \"linkText\": \"Export to plot.ly\", \"plotlyServerURL\": \"https://plot.ly\"})});</script><script type=\"text/javascript\">window.addEventListener(\"resize\", function(){window._Plotly.Plots.resize(document.getElementById(\"0539e944-7e54-4e52-8354-c0307159fb6e\"));});</script>"
      ]
     },
     "metadata": {},
     "output_type": "display_data"
    }
   ],
   "source": [
    "a=ar.array('l',[64,44,36,31,26,14,10,8,8,8,8,7,7,6,6])\n",
    "sk=[\"TOTAL\",\"English\",\"Analytic\",\"Excel\",\"SQL\",\"Statistics\",\"Python\",\"Big Data\",\"Java\",\"Teamwork\",\"Problem Solving\",\"Algorithm\",\"NoSQL\",\"Oracle\",\"Visualization\"]\n",
    "skill = pd.DataFrame({'Skill':sk,'PostNumber':a}).set_index('Skill')\n",
    "skill.iplot(kind='bar', xTitle=\"Skills\", yTitle=\"Quantity\" )"
   ]
  },
  {
   "cell_type": "markdown",
   "metadata": {},
   "source": [
    "chart in percent"
   ]
  },
  {
   "cell_type": "code",
   "execution_count": 16,
   "metadata": {},
   "outputs": [
    {
     "data": {
      "application/vnd.plotly.v1+json": {
       "config": {
        "linkText": "Export to plot.ly",
        "plotlyServerURL": "https://plot.ly",
        "showLink": true
       },
       "data": [
        {
         "marker": {
          "color": "rgba(255, 153, 51, 0.6)",
          "line": {
           "color": "rgba(255, 153, 51, 1.0)",
           "width": 1
          }
         },
         "name": "PostNumber",
         "orientation": "v",
         "text": "",
         "type": "bar",
         "uid": "59550e8d-55b0-4e07-b0d3-aaf51f142411",
         "x": [
          "English",
          "Analytic",
          "Excel",
          "SQL",
          "Statistics",
          "Python",
          "Big Data",
          "Java",
          "Teamwork",
          "Problem Solving",
          "Algorithm",
          "NoSQL",
          "Oracle",
          "Visualization"
         ],
         "y": [
          68.75,
          56.25,
          48.438,
          40.625,
          21.875,
          15.625,
          12.5,
          12.5,
          12.5,
          12.5,
          10.938,
          10.938,
          9.375,
          9.375
         ]
        }
       ],
       "layout": {
        "legend": {
         "bgcolor": "#F5F6F9",
         "font": {
          "color": "#4D5663"
         }
        },
        "paper_bgcolor": "#F5F6F9",
        "plot_bgcolor": "#F5F6F9",
        "title": {
         "font": {
          "color": "#4D5663"
         }
        },
        "xaxis": {
         "gridcolor": "#E1E5ED",
         "showgrid": true,
         "tickfont": {
          "color": "#4D5663"
         },
         "title": {
          "font": {
           "color": "#4D5663"
          },
          "text": "Skills"
         },
         "zerolinecolor": "#E1E5ED"
        },
        "yaxis": {
         "gridcolor": "#E1E5ED",
         "showgrid": true,
         "tickfont": {
          "color": "#4D5663"
         },
         "title": {
          "font": {
           "color": "#4D5663"
          },
          "text": "Percents"
         },
         "zerolinecolor": "#E1E5ED"
        }
       }
      },
      "text/html": [
       "<div id=\"944294c8-f3ac-45d1-ac0d-4e5c161df104\" style=\"height: 525px; width: 100%;\" class=\"plotly-graph-div\"></div><script type=\"text/javascript\">require([\"plotly\"], function(Plotly) { window.PLOTLYENV=window.PLOTLYENV || {};window.PLOTLYENV.BASE_URL=\"https://plot.ly\";Plotly.newPlot(\"944294c8-f3ac-45d1-ac0d-4e5c161df104\", [{\"marker\": {\"color\": \"rgba(255, 153, 51, 0.6)\", \"line\": {\"color\": \"rgba(255, 153, 51, 1.0)\", \"width\": 1}}, \"name\": \"PostNumber\", \"orientation\": \"v\", \"text\": \"\", \"x\": [\"English\", \"Analytic\", \"Excel\", \"SQL\", \"Statistics\", \"Python\", \"Big Data\", \"Java\", \"Teamwork\", \"Problem Solving\", \"Algorithm\", \"NoSQL\", \"Oracle\", \"Visualization\"], \"y\": [68.75, 56.25, 48.438, 40.625, 21.875, 15.625, 12.5, 12.5, 12.5, 12.5, 10.938, 10.938, 9.375, 9.375], \"type\": \"bar\", \"uid\": \"365127ab-652c-45b8-b6d0-7bd0e3d13851\"}], {\"legend\": {\"bgcolor\": \"#F5F6F9\", \"font\": {\"color\": \"#4D5663\"}}, \"paper_bgcolor\": \"#F5F6F9\", \"plot_bgcolor\": \"#F5F6F9\", \"title\": {\"font\": {\"color\": \"#4D5663\"}}, \"xaxis\": {\"gridcolor\": \"#E1E5ED\", \"showgrid\": true, \"tickfont\": {\"color\": \"#4D5663\"}, \"title\": {\"text\": \"Skills\", \"font\": {\"color\": \"#4D5663\"}}, \"zerolinecolor\": \"#E1E5ED\"}, \"yaxis\": {\"gridcolor\": \"#E1E5ED\", \"showgrid\": true, \"tickfont\": {\"color\": \"#4D5663\"}, \"title\": {\"text\": \"Percents\", \"font\": {\"color\": \"#4D5663\"}}, \"zerolinecolor\": \"#E1E5ED\"}}, {\"showLink\": true, \"linkText\": \"Export to plot.ly\", \"plotlyServerURL\": \"https://plot.ly\"})});</script><script type=\"text/javascript\">window.addEventListener(\"resize\", function(){window._Plotly.Plots.resize(document.getElementById(\"944294c8-f3ac-45d1-ac0d-4e5c161df104\"));});</script>"
      ],
      "text/vnd.plotly.v1+html": [
       "<div id=\"944294c8-f3ac-45d1-ac0d-4e5c161df104\" style=\"height: 525px; width: 100%;\" class=\"plotly-graph-div\"></div><script type=\"text/javascript\">require([\"plotly\"], function(Plotly) { window.PLOTLYENV=window.PLOTLYENV || {};window.PLOTLYENV.BASE_URL=\"https://plot.ly\";Plotly.newPlot(\"944294c8-f3ac-45d1-ac0d-4e5c161df104\", [{\"marker\": {\"color\": \"rgba(255, 153, 51, 0.6)\", \"line\": {\"color\": \"rgba(255, 153, 51, 1.0)\", \"width\": 1}}, \"name\": \"PostNumber\", \"orientation\": \"v\", \"text\": \"\", \"x\": [\"English\", \"Analytic\", \"Excel\", \"SQL\", \"Statistics\", \"Python\", \"Big Data\", \"Java\", \"Teamwork\", \"Problem Solving\", \"Algorithm\", \"NoSQL\", \"Oracle\", \"Visualization\"], \"y\": [68.75, 56.25, 48.438, 40.625, 21.875, 15.625, 12.5, 12.5, 12.5, 12.5, 10.938, 10.938, 9.375, 9.375], \"type\": \"bar\", \"uid\": \"365127ab-652c-45b8-b6d0-7bd0e3d13851\"}], {\"legend\": {\"bgcolor\": \"#F5F6F9\", \"font\": {\"color\": \"#4D5663\"}}, \"paper_bgcolor\": \"#F5F6F9\", \"plot_bgcolor\": \"#F5F6F9\", \"title\": {\"font\": {\"color\": \"#4D5663\"}}, \"xaxis\": {\"gridcolor\": \"#E1E5ED\", \"showgrid\": true, \"tickfont\": {\"color\": \"#4D5663\"}, \"title\": {\"text\": \"Skills\", \"font\": {\"color\": \"#4D5663\"}}, \"zerolinecolor\": \"#E1E5ED\"}, \"yaxis\": {\"gridcolor\": \"#E1E5ED\", \"showgrid\": true, \"tickfont\": {\"color\": \"#4D5663\"}, \"title\": {\"text\": \"Percents\", \"font\": {\"color\": \"#4D5663\"}}, \"zerolinecolor\": \"#E1E5ED\"}}, {\"showLink\": true, \"linkText\": \"Export to plot.ly\", \"plotlyServerURL\": \"https://plot.ly\"})});</script><script type=\"text/javascript\">window.addEventListener(\"resize\", function(){window._Plotly.Plots.resize(document.getElementById(\"944294c8-f3ac-45d1-ac0d-4e5c161df104\"));});</script>"
      ]
     },
     "metadata": {},
     "output_type": "display_data"
    }
   ],
   "source": [
    "a=ar.array('d',[68.750,56.250,48.438,40.625,21.875,15.625,12.500,12.500,12.500,12.500,10.938,10.938,9.375,9.375])\n",
    "sk=[\"English\",\"Analytic\",\"Excel\",\"SQL\",\"Statistics\",\"Python\",\"Big Data\",\"Java\",\"Teamwork\",\"Problem Solving\",\"Algorithm\",\"NoSQL\",\"Oracle\",\"Visualization\"]\n",
    "skill = pd.DataFrame({'Skill':sk,'PostNumber':a}).set_index('Skill')\n",
    "skill.iplot(kind='bar', xTitle=\"Skills\", yTitle=\"Percents\" )"
   ]
  },
  {
   "cell_type": "markdown",
   "metadata": {},
   "source": [
    "# Data Science"
   ]
  },
  {
   "cell_type": "code",
   "execution_count": 18,
   "metadata": {},
   "outputs": [
    {
     "data": {
      "application/vnd.plotly.v1+json": {
       "config": {
        "linkText": "Export to plot.ly",
        "plotlyServerURL": "https://plot.ly",
        "showLink": true
       },
       "data": [
        {
         "marker": {
          "color": "rgba(255, 153, 51, 0.6)",
          "line": {
           "color": "rgba(255, 153, 51, 1.0)",
           "width": 1
          }
         },
         "name": "PostNumber",
         "orientation": "v",
         "text": "",
         "type": "bar",
         "uid": "79120be4-6a6c-4620-b3ae-452ccb833875",
         "x": [
          "English",
          "Communication",
          "Machine Learning",
          "Analyst",
          "SQL",
          "Python",
          "Java",
          "Technical",
          "Teamwork",
          "Problem Solving"
         ],
         "y": [
          61.616,
          40.404,
          33.333,
          26.263,
          26.263,
          23.232,
          14.141,
          14.141,
          13.131,
          13.131
         ]
        }
       ],
       "layout": {
        "legend": {
         "bgcolor": "#F5F6F9",
         "font": {
          "color": "#4D5663"
         }
        },
        "paper_bgcolor": "#F5F6F9",
        "plot_bgcolor": "#F5F6F9",
        "title": {
         "font": {
          "color": "#4D5663"
         }
        },
        "xaxis": {
         "gridcolor": "#E1E5ED",
         "showgrid": true,
         "tickfont": {
          "color": "#4D5663"
         },
         "title": {
          "font": {
           "color": "#4D5663"
          },
          "text": "Skills"
         },
         "zerolinecolor": "#E1E5ED"
        },
        "yaxis": {
         "gridcolor": "#E1E5ED",
         "showgrid": true,
         "tickfont": {
          "color": "#4D5663"
         },
         "title": {
          "font": {
           "color": "#4D5663"
          },
          "text": "Percents"
         },
         "zerolinecolor": "#E1E5ED"
        }
       }
      },
      "text/html": [
       "<div id=\"06df1093-8f20-4ec1-9fa5-3378284f8339\" style=\"height: 525px; width: 100%;\" class=\"plotly-graph-div\"></div><script type=\"text/javascript\">require([\"plotly\"], function(Plotly) { window.PLOTLYENV=window.PLOTLYENV || {};window.PLOTLYENV.BASE_URL=\"https://plot.ly\";Plotly.newPlot(\"06df1093-8f20-4ec1-9fa5-3378284f8339\", [{\"marker\": {\"color\": \"rgba(255, 153, 51, 0.6)\", \"line\": {\"color\": \"rgba(255, 153, 51, 1.0)\", \"width\": 1}}, \"name\": \"PostNumber\", \"orientation\": \"v\", \"text\": \"\", \"x\": [\"English\", \"Communication\", \"Machine Learning\", \"Analyst\", \"SQL\", \"Python\", \"Java\", \"Technical\", \"Teamwork\", \"Problem Solving\"], \"y\": [61.616, 40.404, 33.333, 26.263, 26.263, 23.232, 14.141, 14.141, 13.131, 13.131], \"type\": \"bar\", \"uid\": \"f3642846-7b20-42ad-84c0-77b815fadb10\"}], {\"legend\": {\"bgcolor\": \"#F5F6F9\", \"font\": {\"color\": \"#4D5663\"}}, \"paper_bgcolor\": \"#F5F6F9\", \"plot_bgcolor\": \"#F5F6F9\", \"title\": {\"font\": {\"color\": \"#4D5663\"}}, \"xaxis\": {\"gridcolor\": \"#E1E5ED\", \"showgrid\": true, \"tickfont\": {\"color\": \"#4D5663\"}, \"title\": {\"text\": \"Skills\", \"font\": {\"color\": \"#4D5663\"}}, \"zerolinecolor\": \"#E1E5ED\"}, \"yaxis\": {\"gridcolor\": \"#E1E5ED\", \"showgrid\": true, \"tickfont\": {\"color\": \"#4D5663\"}, \"title\": {\"text\": \"Percents\", \"font\": {\"color\": \"#4D5663\"}}, \"zerolinecolor\": \"#E1E5ED\"}}, {\"showLink\": true, \"linkText\": \"Export to plot.ly\", \"plotlyServerURL\": \"https://plot.ly\"})});</script><script type=\"text/javascript\">window.addEventListener(\"resize\", function(){window._Plotly.Plots.resize(document.getElementById(\"06df1093-8f20-4ec1-9fa5-3378284f8339\"));});</script>"
      ],
      "text/vnd.plotly.v1+html": [
       "<div id=\"06df1093-8f20-4ec1-9fa5-3378284f8339\" style=\"height: 525px; width: 100%;\" class=\"plotly-graph-div\"></div><script type=\"text/javascript\">require([\"plotly\"], function(Plotly) { window.PLOTLYENV=window.PLOTLYENV || {};window.PLOTLYENV.BASE_URL=\"https://plot.ly\";Plotly.newPlot(\"06df1093-8f20-4ec1-9fa5-3378284f8339\", [{\"marker\": {\"color\": \"rgba(255, 153, 51, 0.6)\", \"line\": {\"color\": \"rgba(255, 153, 51, 1.0)\", \"width\": 1}}, \"name\": \"PostNumber\", \"orientation\": \"v\", \"text\": \"\", \"x\": [\"English\", \"Communication\", \"Machine Learning\", \"Analyst\", \"SQL\", \"Python\", \"Java\", \"Technical\", \"Teamwork\", \"Problem Solving\"], \"y\": [61.616, 40.404, 33.333, 26.263, 26.263, 23.232, 14.141, 14.141, 13.131, 13.131], \"type\": \"bar\", \"uid\": \"f3642846-7b20-42ad-84c0-77b815fadb10\"}], {\"legend\": {\"bgcolor\": \"#F5F6F9\", \"font\": {\"color\": \"#4D5663\"}}, \"paper_bgcolor\": \"#F5F6F9\", \"plot_bgcolor\": \"#F5F6F9\", \"title\": {\"font\": {\"color\": \"#4D5663\"}}, \"xaxis\": {\"gridcolor\": \"#E1E5ED\", \"showgrid\": true, \"tickfont\": {\"color\": \"#4D5663\"}, \"title\": {\"text\": \"Skills\", \"font\": {\"color\": \"#4D5663\"}}, \"zerolinecolor\": \"#E1E5ED\"}, \"yaxis\": {\"gridcolor\": \"#E1E5ED\", \"showgrid\": true, \"tickfont\": {\"color\": \"#4D5663\"}, \"title\": {\"text\": \"Percents\", \"font\": {\"color\": \"#4D5663\"}}, \"zerolinecolor\": \"#E1E5ED\"}}, {\"showLink\": true, \"linkText\": \"Export to plot.ly\", \"plotlyServerURL\": \"https://plot.ly\"})});</script><script type=\"text/javascript\">window.addEventListener(\"resize\", function(){window._Plotly.Plots.resize(document.getElementById(\"06df1093-8f20-4ec1-9fa5-3378284f8339\"));});</script>"
      ]
     },
     "metadata": {},
     "output_type": "display_data"
    }
   ],
   "source": [
    "\n",
    "a=ar.array('d',[61.616,40.404,33.333,26.263,26.263,23.232,14.141,14.141,13.131,13.131])\n",
    "sk=[\"English\",\"Communication\",\"Machine Learning\",\"Analyst\",\"SQL\",\"Python\",\"Java\",\"Technical\",\"Teamwork\",\"Problem Solving\"]\n",
    "skill = pd.DataFrame({'Skill':sk,'PostNumber':a}).set_index('Skill')\n",
    "skill.iplot(kind='bar', xTitle=\"Skills\", yTitle=\"Percents\" )"
   ]
  },
  {
   "cell_type": "markdown",
   "metadata": {},
   "source": [
    "# Data Analyst"
   ]
  },
  {
   "cell_type": "code",
   "execution_count": 19,
   "metadata": {},
   "outputs": [
    {
     "data": {
      "application/vnd.plotly.v1+json": {
       "config": {
        "linkText": "Export to plot.ly",
        "plotlyServerURL": "https://plot.ly",
        "showLink": true
       },
       "data": [
        {
         "marker": {
          "color": "rgba(255, 153, 51, 0.6)",
          "line": {
           "color": "rgba(255, 153, 51, 1.0)",
           "width": 1
          }
         },
         "name": "PostNumber",
         "orientation": "v",
         "text": "",
         "type": "bar",
         "uid": "2a17d915-cc27-42bc-8b10-a0a40111642a",
         "x": [
          "English",
          "Communication",
          "Machine Learning",
          "Analyst",
          "SQL",
          "Python",
          "Java",
          "Technical",
          "Teamwork",
          "Problem Solving"
         ],
         "y": [
          61.616,
          40.404,
          33.333,
          26.263,
          26.263,
          23.232,
          14.141,
          14.141,
          13.131,
          13.131
         ]
        }
       ],
       "layout": {
        "legend": {
         "bgcolor": "#F5F6F9",
         "font": {
          "color": "#4D5663"
         }
        },
        "paper_bgcolor": "#F5F6F9",
        "plot_bgcolor": "#F5F6F9",
        "title": {
         "font": {
          "color": "#4D5663"
         }
        },
        "xaxis": {
         "gridcolor": "#E1E5ED",
         "showgrid": true,
         "tickfont": {
          "color": "#4D5663"
         },
         "title": {
          "font": {
           "color": "#4D5663"
          },
          "text": "Skills"
         },
         "zerolinecolor": "#E1E5ED"
        },
        "yaxis": {
         "gridcolor": "#E1E5ED",
         "showgrid": true,
         "tickfont": {
          "color": "#4D5663"
         },
         "title": {
          "font": {
           "color": "#4D5663"
          },
          "text": "Percents"
         },
         "zerolinecolor": "#E1E5ED"
        }
       }
      },
      "text/html": [
       "<div id=\"5f38e6ab-6f0d-4d41-9f48-7a3f39108b34\" style=\"height: 525px; width: 100%;\" class=\"plotly-graph-div\"></div><script type=\"text/javascript\">require([\"plotly\"], function(Plotly) { window.PLOTLYENV=window.PLOTLYENV || {};window.PLOTLYENV.BASE_URL=\"https://plot.ly\";Plotly.newPlot(\"5f38e6ab-6f0d-4d41-9f48-7a3f39108b34\", [{\"marker\": {\"color\": \"rgba(255, 153, 51, 0.6)\", \"line\": {\"color\": \"rgba(255, 153, 51, 1.0)\", \"width\": 1}}, \"name\": \"PostNumber\", \"orientation\": \"v\", \"text\": \"\", \"x\": [\"English\", \"Communication\", \"Machine Learning\", \"Analyst\", \"SQL\", \"Python\", \"Java\", \"Technical\", \"Teamwork\", \"Problem Solving\"], \"y\": [61.616, 40.404, 33.333, 26.263, 26.263, 23.232, 14.141, 14.141, 13.131, 13.131], \"type\": \"bar\", \"uid\": \"16ebe75e-1ffa-4e64-a581-f2eba3591334\"}], {\"legend\": {\"bgcolor\": \"#F5F6F9\", \"font\": {\"color\": \"#4D5663\"}}, \"paper_bgcolor\": \"#F5F6F9\", \"plot_bgcolor\": \"#F5F6F9\", \"title\": {\"font\": {\"color\": \"#4D5663\"}}, \"xaxis\": {\"gridcolor\": \"#E1E5ED\", \"showgrid\": true, \"tickfont\": {\"color\": \"#4D5663\"}, \"title\": {\"text\": \"Skills\", \"font\": {\"color\": \"#4D5663\"}}, \"zerolinecolor\": \"#E1E5ED\"}, \"yaxis\": {\"gridcolor\": \"#E1E5ED\", \"showgrid\": true, \"tickfont\": {\"color\": \"#4D5663\"}, \"title\": {\"text\": \"Percents\", \"font\": {\"color\": \"#4D5663\"}}, \"zerolinecolor\": \"#E1E5ED\"}}, {\"showLink\": true, \"linkText\": \"Export to plot.ly\", \"plotlyServerURL\": \"https://plot.ly\"})});</script><script type=\"text/javascript\">window.addEventListener(\"resize\", function(){window._Plotly.Plots.resize(document.getElementById(\"5f38e6ab-6f0d-4d41-9f48-7a3f39108b34\"));});</script>"
      ],
      "text/vnd.plotly.v1+html": [
       "<div id=\"5f38e6ab-6f0d-4d41-9f48-7a3f39108b34\" style=\"height: 525px; width: 100%;\" class=\"plotly-graph-div\"></div><script type=\"text/javascript\">require([\"plotly\"], function(Plotly) { window.PLOTLYENV=window.PLOTLYENV || {};window.PLOTLYENV.BASE_URL=\"https://plot.ly\";Plotly.newPlot(\"5f38e6ab-6f0d-4d41-9f48-7a3f39108b34\", [{\"marker\": {\"color\": \"rgba(255, 153, 51, 0.6)\", \"line\": {\"color\": \"rgba(255, 153, 51, 1.0)\", \"width\": 1}}, \"name\": \"PostNumber\", \"orientation\": \"v\", \"text\": \"\", \"x\": [\"English\", \"Communication\", \"Machine Learning\", \"Analyst\", \"SQL\", \"Python\", \"Java\", \"Technical\", \"Teamwork\", \"Problem Solving\"], \"y\": [61.616, 40.404, 33.333, 26.263, 26.263, 23.232, 14.141, 14.141, 13.131, 13.131], \"type\": \"bar\", \"uid\": \"16ebe75e-1ffa-4e64-a581-f2eba3591334\"}], {\"legend\": {\"bgcolor\": \"#F5F6F9\", \"font\": {\"color\": \"#4D5663\"}}, \"paper_bgcolor\": \"#F5F6F9\", \"plot_bgcolor\": \"#F5F6F9\", \"title\": {\"font\": {\"color\": \"#4D5663\"}}, \"xaxis\": {\"gridcolor\": \"#E1E5ED\", \"showgrid\": true, \"tickfont\": {\"color\": \"#4D5663\"}, \"title\": {\"text\": \"Skills\", \"font\": {\"color\": \"#4D5663\"}}, \"zerolinecolor\": \"#E1E5ED\"}, \"yaxis\": {\"gridcolor\": \"#E1E5ED\", \"showgrid\": true, \"tickfont\": {\"color\": \"#4D5663\"}, \"title\": {\"text\": \"Percents\", \"font\": {\"color\": \"#4D5663\"}}, \"zerolinecolor\": \"#E1E5ED\"}}, {\"showLink\": true, \"linkText\": \"Export to plot.ly\", \"plotlyServerURL\": \"https://plot.ly\"})});</script><script type=\"text/javascript\">window.addEventListener(\"resize\", function(){window._Plotly.Plots.resize(document.getElementById(\"5f38e6ab-6f0d-4d41-9f48-7a3f39108b34\"));});</script>"
      ]
     },
     "metadata": {},
     "output_type": "display_data"
    }
   ],
   "source": [
    "a=ar.array('d',[61.616,40.404,33.333,26.263,26.263,23.232,14.141,14.141,13.131,13.131])\n",
    "sk=[\"English\",\"Communication\",\"Machine Learning\",\"Analyst\",\"SQL\",\"Python\",\"Java\",\"Technical\",\"Teamwork\",\"Problem Solving\"]\n",
    "skill = pd.DataFrame({'Skill':sk,'PostNumber':a}).set_index('Skill')\n",
    "skill.iplot(kind='bar', xTitle=\"Skills\", yTitle=\"Percents\" )"
   ]
  },
  {
   "cell_type": "markdown",
   "metadata": {},
   "source": [
    "# Bussiness Analyst"
   ]
  },
  {
   "cell_type": "code",
   "execution_count": 20,
   "metadata": {},
   "outputs": [
    {
     "data": {
      "application/vnd.plotly.v1+json": {
       "config": {
        "linkText": "Export to plot.ly",
        "plotlyServerURL": "https://plot.ly",
        "showLink": true
       },
       "data": [
        {
         "marker": {
          "color": "rgba(255, 153, 51, 0.6)",
          "line": {
           "color": "rgba(255, 153, 51, 1.0)",
           "width": 1
          }
         },
         "name": "PostNumber",
         "orientation": "v",
         "text": "",
         "type": "bar",
         "uid": "b8a39e01-3a64-41de-a702-1da7f48ab610",
         "x": [
          "English",
          "Analysis",
          "Communication",
          "ERP",
          "Modelling/ Design",
          "Technical",
          "Teamwork",
          "SQL",
          "Problem-Solving",
          "Business Analysis",
          "Word",
          "Visio"
         ],
         "y": [
          71.56,
          45.872,
          33.028,
          28.44,
          28.44,
          18.349,
          15.596,
          13.761,
          13.761,
          13.761,
          11.927,
          10.092
         ]
        }
       ],
       "layout": {
        "legend": {
         "bgcolor": "#F5F6F9",
         "font": {
          "color": "#4D5663"
         }
        },
        "paper_bgcolor": "#F5F6F9",
        "plot_bgcolor": "#F5F6F9",
        "title": {
         "font": {
          "color": "#4D5663"
         }
        },
        "xaxis": {
         "gridcolor": "#E1E5ED",
         "showgrid": true,
         "tickfont": {
          "color": "#4D5663"
         },
         "title": {
          "font": {
           "color": "#4D5663"
          },
          "text": "Skills"
         },
         "zerolinecolor": "#E1E5ED"
        },
        "yaxis": {
         "gridcolor": "#E1E5ED",
         "showgrid": true,
         "tickfont": {
          "color": "#4D5663"
         },
         "title": {
          "font": {
           "color": "#4D5663"
          },
          "text": "Percents"
         },
         "zerolinecolor": "#E1E5ED"
        }
       }
      },
      "text/html": [
       "<div id=\"665fdc81-16ed-4a0e-a2bf-55c6ee6a0125\" style=\"height: 525px; width: 100%;\" class=\"plotly-graph-div\"></div><script type=\"text/javascript\">require([\"plotly\"], function(Plotly) { window.PLOTLYENV=window.PLOTLYENV || {};window.PLOTLYENV.BASE_URL=\"https://plot.ly\";Plotly.newPlot(\"665fdc81-16ed-4a0e-a2bf-55c6ee6a0125\", [{\"marker\": {\"color\": \"rgba(255, 153, 51, 0.6)\", \"line\": {\"color\": \"rgba(255, 153, 51, 1.0)\", \"width\": 1}}, \"name\": \"PostNumber\", \"orientation\": \"v\", \"text\": \"\", \"x\": [\"English\", \"Analysis\", \"Communication\", \"ERP\", \"Modelling/ Design\", \"Technical\", \"Teamwork\", \"SQL\", \"Problem-Solving\", \"Business Analysis\", \"Word\", \"Visio\"], \"y\": [71.56, 45.872, 33.028, 28.44, 28.44, 18.349, 15.596, 13.761, 13.761, 13.761, 11.927, 10.092], \"type\": \"bar\", \"uid\": \"c6619059-91b5-4313-bc2d-73c2e2cf30bf\"}], {\"legend\": {\"bgcolor\": \"#F5F6F9\", \"font\": {\"color\": \"#4D5663\"}}, \"paper_bgcolor\": \"#F5F6F9\", \"plot_bgcolor\": \"#F5F6F9\", \"title\": {\"font\": {\"color\": \"#4D5663\"}}, \"xaxis\": {\"gridcolor\": \"#E1E5ED\", \"showgrid\": true, \"tickfont\": {\"color\": \"#4D5663\"}, \"title\": {\"text\": \"Skills\", \"font\": {\"color\": \"#4D5663\"}}, \"zerolinecolor\": \"#E1E5ED\"}, \"yaxis\": {\"gridcolor\": \"#E1E5ED\", \"showgrid\": true, \"tickfont\": {\"color\": \"#4D5663\"}, \"title\": {\"text\": \"Percents\", \"font\": {\"color\": \"#4D5663\"}}, \"zerolinecolor\": \"#E1E5ED\"}}, {\"showLink\": true, \"linkText\": \"Export to plot.ly\", \"plotlyServerURL\": \"https://plot.ly\"})});</script><script type=\"text/javascript\">window.addEventListener(\"resize\", function(){window._Plotly.Plots.resize(document.getElementById(\"665fdc81-16ed-4a0e-a2bf-55c6ee6a0125\"));});</script>"
      ],
      "text/vnd.plotly.v1+html": [
       "<div id=\"665fdc81-16ed-4a0e-a2bf-55c6ee6a0125\" style=\"height: 525px; width: 100%;\" class=\"plotly-graph-div\"></div><script type=\"text/javascript\">require([\"plotly\"], function(Plotly) { window.PLOTLYENV=window.PLOTLYENV || {};window.PLOTLYENV.BASE_URL=\"https://plot.ly\";Plotly.newPlot(\"665fdc81-16ed-4a0e-a2bf-55c6ee6a0125\", [{\"marker\": {\"color\": \"rgba(255, 153, 51, 0.6)\", \"line\": {\"color\": \"rgba(255, 153, 51, 1.0)\", \"width\": 1}}, \"name\": \"PostNumber\", \"orientation\": \"v\", \"text\": \"\", \"x\": [\"English\", \"Analysis\", \"Communication\", \"ERP\", \"Modelling/ Design\", \"Technical\", \"Teamwork\", \"SQL\", \"Problem-Solving\", \"Business Analysis\", \"Word\", \"Visio\"], \"y\": [71.56, 45.872, 33.028, 28.44, 28.44, 18.349, 15.596, 13.761, 13.761, 13.761, 11.927, 10.092], \"type\": \"bar\", \"uid\": \"c6619059-91b5-4313-bc2d-73c2e2cf30bf\"}], {\"legend\": {\"bgcolor\": \"#F5F6F9\", \"font\": {\"color\": \"#4D5663\"}}, \"paper_bgcolor\": \"#F5F6F9\", \"plot_bgcolor\": \"#F5F6F9\", \"title\": {\"font\": {\"color\": \"#4D5663\"}}, \"xaxis\": {\"gridcolor\": \"#E1E5ED\", \"showgrid\": true, \"tickfont\": {\"color\": \"#4D5663\"}, \"title\": {\"text\": \"Skills\", \"font\": {\"color\": \"#4D5663\"}}, \"zerolinecolor\": \"#E1E5ED\"}, \"yaxis\": {\"gridcolor\": \"#E1E5ED\", \"showgrid\": true, \"tickfont\": {\"color\": \"#4D5663\"}, \"title\": {\"text\": \"Percents\", \"font\": {\"color\": \"#4D5663\"}}, \"zerolinecolor\": \"#E1E5ED\"}}, {\"showLink\": true, \"linkText\": \"Export to plot.ly\", \"plotlyServerURL\": \"https://plot.ly\"})});</script><script type=\"text/javascript\">window.addEventListener(\"resize\", function(){window._Plotly.Plots.resize(document.getElementById(\"665fdc81-16ed-4a0e-a2bf-55c6ee6a0125\"));});</script>"
      ]
     },
     "metadata": {},
     "output_type": "display_data"
    }
   ],
   "source": [
    "a=ar.array('d',[71.560,45.872,33.028,28.440,28.440,18.349,15.596,13.761,13.761,13.761,11.927,10.092])\n",
    "sk=[\"English\",\"Analysis\",\"Communication\",\"ERP\",\"Modelling/ Design\",\"Technical\",\"Teamwork\",\"SQL\",\"Problem-Solving\",\"Business Analysis\",\"Word\",\"Visio\"]\n",
    "skill = pd.DataFrame({'Skill':sk,'PostNumber':a}).set_index('Skill')\n",
    "skill.iplot(kind='bar', xTitle=\"Skills\", yTitle=\"Percents\" )"
   ]
  },
  {
   "cell_type": "code",
   "execution_count": 5,
   "metadata": {},
   "outputs": [
    {
     "data": {
      "application/vnd.plotly.v1+json": {
       "config": {
        "linkText": "Export to plot.ly",
        "plotlyServerURL": "https://plot.ly",
        "showLink": true
       },
       "data": [
        {
         "marker": {
          "color": "rgba(255, 153, 51, 0.6)",
          "line": {
           "color": "rgba(255, 153, 51, 1.0)",
           "width": 1
          }
         },
         "name": "PostNumber",
         "orientation": "v",
         "text": "",
         "type": "bar",
         "uid": "42645db1-3631-49c8-9579-843812e1e340",
         "x": [
          "English",
          "Technical",
          "Model design",
          "Communication",
          "Excel",
          "Database",
          "Java",
          "Analyst",
          "ERP",
          "Big Data",
          "Python",
          "API",
          "Visio"
         ],
         "y": [
          45,
          36,
          28,
          25.4,
          22.2,
          18.2,
          17.6,
          15.4,
          15.4,
          14.6,
          14,
          11.6,
          11.4
         ]
        }
       ],
       "layout": {
        "legend": {
         "bgcolor": "#F5F6F9",
         "font": {
          "color": "#4D5663"
         }
        },
        "paper_bgcolor": "#F5F6F9",
        "plot_bgcolor": "#F5F6F9",
        "title": {
         "font": {
          "color": "#4D5663"
         }
        },
        "xaxis": {
         "gridcolor": "#E1E5ED",
         "showgrid": true,
         "tickfont": {
          "color": "#4D5663"
         },
         "title": {
          "font": {
           "color": "#4D5663"
          },
          "text": "Skills"
         },
         "zerolinecolor": "#E1E5ED"
        },
        "yaxis": {
         "gridcolor": "#E1E5ED",
         "showgrid": true,
         "tickfont": {
          "color": "#4D5663"
         },
         "title": {
          "font": {
           "color": "#4D5663"
          },
          "text": "Percents"
         },
         "zerolinecolor": "#E1E5ED"
        }
       }
      },
      "text/html": [
       "<div id=\"443738b6-0c82-4474-bf5f-9313d56f83c5\" style=\"height: 525px; width: 100%;\" class=\"plotly-graph-div\"></div><script type=\"text/javascript\">require([\"plotly\"], function(Plotly) { window.PLOTLYENV=window.PLOTLYENV || {};window.PLOTLYENV.BASE_URL=\"https://plot.ly\";Plotly.newPlot(\"443738b6-0c82-4474-bf5f-9313d56f83c5\", [{\"marker\": {\"color\": \"rgba(255, 153, 51, 0.6)\", \"line\": {\"color\": \"rgba(255, 153, 51, 1.0)\", \"width\": 1}}, \"name\": \"PostNumber\", \"orientation\": \"v\", \"text\": \"\", \"x\": [\"English\", \"Technical\", \"Model design\", \"Communication\", \"Excel\", \"Database\", \"Java\", \"Analyst\", \"ERP\", \"Big Data\", \"Python\", \"API\", \"Visio\"], \"y\": [45.0, 36.0, 28.0, 25.4, 22.2, 18.2, 17.6, 15.4, 15.4, 14.6, 14.0, 11.6, 11.4], \"type\": \"bar\", \"uid\": \"cd5b83e1-9feb-4106-ad1b-700e530b4034\"}], {\"legend\": {\"bgcolor\": \"#F5F6F9\", \"font\": {\"color\": \"#4D5663\"}}, \"paper_bgcolor\": \"#F5F6F9\", \"plot_bgcolor\": \"#F5F6F9\", \"title\": {\"font\": {\"color\": \"#4D5663\"}}, \"xaxis\": {\"gridcolor\": \"#E1E5ED\", \"showgrid\": true, \"tickfont\": {\"color\": \"#4D5663\"}, \"title\": {\"text\": \"Skills\", \"font\": {\"color\": \"#4D5663\"}}, \"zerolinecolor\": \"#E1E5ED\"}, \"yaxis\": {\"gridcolor\": \"#E1E5ED\", \"showgrid\": true, \"tickfont\": {\"color\": \"#4D5663\"}, \"title\": {\"text\": \"Percents\", \"font\": {\"color\": \"#4D5663\"}}, \"zerolinecolor\": \"#E1E5ED\"}}, {\"showLink\": true, \"linkText\": \"Export to plot.ly\", \"plotlyServerURL\": \"https://plot.ly\"})});</script><script type=\"text/javascript\">window.addEventListener(\"resize\", function(){window._Plotly.Plots.resize(document.getElementById(\"443738b6-0c82-4474-bf5f-9313d56f83c5\"));});</script>"
      ],
      "text/vnd.plotly.v1+html": [
       "<div id=\"443738b6-0c82-4474-bf5f-9313d56f83c5\" style=\"height: 525px; width: 100%;\" class=\"plotly-graph-div\"></div><script type=\"text/javascript\">require([\"plotly\"], function(Plotly) { window.PLOTLYENV=window.PLOTLYENV || {};window.PLOTLYENV.BASE_URL=\"https://plot.ly\";Plotly.newPlot(\"443738b6-0c82-4474-bf5f-9313d56f83c5\", [{\"marker\": {\"color\": \"rgba(255, 153, 51, 0.6)\", \"line\": {\"color\": \"rgba(255, 153, 51, 1.0)\", \"width\": 1}}, \"name\": \"PostNumber\", \"orientation\": \"v\", \"text\": \"\", \"x\": [\"English\", \"Technical\", \"Model design\", \"Communication\", \"Excel\", \"Database\", \"Java\", \"Analyst\", \"ERP\", \"Big Data\", \"Python\", \"API\", \"Visio\"], \"y\": [45.0, 36.0, 28.0, 25.4, 22.2, 18.2, 17.6, 15.4, 15.4, 14.6, 14.0, 11.6, 11.4], \"type\": \"bar\", \"uid\": \"cd5b83e1-9feb-4106-ad1b-700e530b4034\"}], {\"legend\": {\"bgcolor\": \"#F5F6F9\", \"font\": {\"color\": \"#4D5663\"}}, \"paper_bgcolor\": \"#F5F6F9\", \"plot_bgcolor\": \"#F5F6F9\", \"title\": {\"font\": {\"color\": \"#4D5663\"}}, \"xaxis\": {\"gridcolor\": \"#E1E5ED\", \"showgrid\": true, \"tickfont\": {\"color\": \"#4D5663\"}, \"title\": {\"text\": \"Skills\", \"font\": {\"color\": \"#4D5663\"}}, \"zerolinecolor\": \"#E1E5ED\"}, \"yaxis\": {\"gridcolor\": \"#E1E5ED\", \"showgrid\": true, \"tickfont\": {\"color\": \"#4D5663\"}, \"title\": {\"text\": \"Percents\", \"font\": {\"color\": \"#4D5663\"}}, \"zerolinecolor\": \"#E1E5ED\"}}, {\"showLink\": true, \"linkText\": \"Export to plot.ly\", \"plotlyServerURL\": \"https://plot.ly\"})});</script><script type=\"text/javascript\">window.addEventListener(\"resize\", function(){window._Plotly.Plots.resize(document.getElementById(\"443738b6-0c82-4474-bf5f-9313d56f83c5\"));});</script>"
      ]
     },
     "metadata": {},
     "output_type": "display_data"
    }
   ],
   "source": [
    "a=ar.array('d',[45.000,36.000,28.000,25.400,22.200,18.200,17.600,15.400,15.400,14.600,14.000,11.600,11.400])\n",
    "sk=[\"English\",\"Technical\",\"Model design\",\"Communication\",\"Excel\" ,\"Database\",\"Java\",\"Analyst\",\"ERP\",\"Big Data\",\"Python\",\"API\",\"Visio\"]\n",
    "skill = pd.DataFrame({'Skill':sk,'PostNumber':a}).set_index('Skill')\n",
    "skill.iplot(kind='bar', xTitle=\"Skills\", yTitle=\"Percents\" )"
   ]
  },
  {
   "cell_type": "code",
   "execution_count": null,
   "metadata": {},
   "outputs": [],
   "source": []
  }
 ],
 "metadata": {
  "kernelspec": {
   "display_name": "Python 3",
   "language": "python",
   "name": "python3"
  },
  "language_info": {
   "codemirror_mode": {
    "name": "ipython",
    "version": 3
   },
   "file_extension": ".py",
   "mimetype": "text/x-python",
   "name": "python",
   "nbconvert_exporter": "python",
   "pygments_lexer": "ipython3",
   "version": "3.7.1"
  }
 },
 "nbformat": 4,
 "nbformat_minor": 2
}
